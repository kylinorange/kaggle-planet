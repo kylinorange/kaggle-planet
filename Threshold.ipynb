{
 "cells": [
  {
   "cell_type": "code",
   "execution_count": 22,
   "metadata": {
    "collapsed": true
   },
   "outputs": [],
   "source": [
    "import numpy as np"
   ]
  },
  {
   "cell_type": "code",
   "execution_count": 23,
   "metadata": {
    "collapsed": false
   },
   "outputs": [],
   "source": [
    "import sys\n",
    "sys.path.append('./utils')\n",
    "\n",
    "from data import Data\n",
    "from models import Models\n",
    "from tags import Tags\n",
    "tags = Tags()"
   ]
  },
  {
   "cell_type": "code",
   "execution_count": 18,
   "metadata": {
    "collapsed": true
   },
   "outputs": [],
   "source": [
    "N_TAGS = 17\n",
    "\n",
    "def threshold(pred, true):\n",
    "    thres = [0] * N_TAGS\n",
    "    for i in range(N_TAGS):\n",
    "        print('Calc thresh for tag {}'.format(tags.idx_to_tag(i)))\n",
    "        thres[i] = tag_threshold(pred[:,i], true[:,i])\n",
    "    return thres\n",
    "\n",
    "def amazon_score(tp, fp, fn):\n",
    "    p = tp / (tp + fp) if tp + fp > 0 else 0\n",
    "    r = tp / (tp + fn) if tp + fn > 0 else 0\n",
    "    result = 5 * p * r / (4 * p + r) if 4 * p + r > 0 else 0\n",
    "    return result\n",
    "\n",
    "def tag_threshold(pred, true):\n",
    "    pred = pred.reshape((len(pred)))\n",
    "    true = true.reshape((len(true)))\n",
    "    N_POS = sum(true)\n",
    "    N_NEG = len(pred) - N_POS\n",
    "    pair = list(zip(pred, true))\n",
    "    pair.sort()\n",
    "    tp, fp, tn, fn = N_POS, N_NEG, 0, 0\n",
    "    tag_thres = 0\n",
    "    max_score = amazon_score(tp, fp, fn)\n",
    "    best_counts = ()\n",
    "    for i in range(len(pred)):\n",
    "        if pair[i][1] == 0:\n",
    "            fp -= 1\n",
    "            tn += 1\n",
    "        else:\n",
    "            tp -= 1\n",
    "            fn += 1\n",
    "        current_score = amazon_score(tp, fp, fn)\n",
    "        if current_score > max_score:\n",
    "            max_score = current_score\n",
    "            tag_thres = pair[i][0]\n",
    "            best_counts = (tp, fp, tn, fn)\n",
    "    print('Best (tp, fp, tn, fn) is {}'.format(best_counts))\n",
    "    return tag_thres\n",
    "\n",
    "def calc_threshold(path):\n",
    "    m = Models.load_resnet50(path)\n",
    "    d = Data()\n",
    "    X, y = d.get_fold(0)\n",
    "    y_pred = m.predict(X)\n",
    "    return threshold(y_pred, y)"
   ]
  },
  {
   "cell_type": "code",
   "execution_count": 24,
   "metadata": {
    "collapsed": false
   },
   "outputs": [],
   "source": [
    "def test():\n",
    "    pred = np.array([[0.2], [0.6], [0.4], [0.8]])\n",
    "    true = np.array([[0], [1], [0], [1]])\n",
    "    thres = threshold(pred, true)\n",
    "    return thres"
   ]
  },
  {
   "cell_type": "code",
   "execution_count": null,
   "metadata": {
    "collapsed": true
   },
   "outputs": [],
   "source": []
  }
 ],
 "metadata": {
  "kernelspec": {
   "display_name": "Python 3",
   "language": "python",
   "name": "python3"
  },
  "language_info": {
   "codemirror_mode": {
    "name": "ipython",
    "version": 3
   },
   "file_extension": ".py",
   "mimetype": "text/x-python",
   "name": "python",
   "nbconvert_exporter": "python",
   "pygments_lexer": "ipython3",
   "version": "3.6.0"
  }
 },
 "nbformat": 4,
 "nbformat_minor": 2
}
