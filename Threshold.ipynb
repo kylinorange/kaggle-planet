{
 "cells": [
  {
   "cell_type": "code",
   "execution_count": 22,
   "metadata": {
    "collapsed": true
   },
   "outputs": [],
   "source": [
    "import numpy as np"
   ]
  },
  {
   "cell_type": "code",
   "execution_count": 23,
   "metadata": {
    "collapsed": false
   },
   "outputs": [],
   "source": [
    "import sys\n",
    "sys.path.append('./utils')\n",
    "\n",
    "from data import Data\n",
    "from models import Models\n",
    "from tags import Tags\n",
    "tags = Tags()"
   ]
  },
  {
   "cell_type": "code",
   "execution_count": 18,
   "metadata": {
    "collapsed": true
   },
   "outputs": [],
   "source": [
    "N_TAGS = 17\n",
    "\n",
    "def threshold(pred, true):\n",
    "    thres = [0] * N_TAGS\n",
    "    for i in range(N_TAGS):\n",
    "        print('Calc thresh for tag {}'.format(tags.idx_to_tag(i)))\n",
    "        thres[i] = tag_threshold(pred[:,i], true[:,i])\n",
    "    return thres\n",
    "\n",
    "def amazon_score(tp, fp, fn):\n",
    "    p = tp / (tp + fp) if tp + fp > 0 else 0\n",
    "    r = tp / (tp + fn) if tp + fn > 0 else 0\n",
    "    result = 5 * p * r / (4 * p + r) if 4 * p + r > 0 else 0\n",
    "    return result\n",
    "\n",
    "def tag_threshold(pred, true):\n",
    "    pred = pred.reshape((len(pred)))\n",
    "    true = true.reshape((len(true)))\n",
    "    N_POS = sum(true)\n",
    "    N_NEG = len(pred) - N_POS\n",
    "    pair = list(zip(pred, true))\n",
    "    pair.sort()\n",
    "    tp, fp, tn, fn = N_POS, N_NEG, 0, 0\n",
    "    tag_thres = 0\n",
    "    max_score = amazon_score(tp, fp, fn)\n",
    "    best_counts = ()\n",
    "    for i in range(len(pred)):\n",
    "        if pair[i][1] == 0:\n",
    "            fp -= 1\n",
    "            tn += 1\n",
    "        else:\n",
    "            tp -= 1\n",
    "            fn += 1\n",
    "        current_score = amazon_score(tp, fp, fn)\n",
    "        if current_score > max_score:\n",
    "            max_score = current_score\n",
    "            tag_thres = pair[i][0]\n",
    "            best_counts = (tp, fp, tn, fn)\n",
    "    print('Best (tp, fp, tn, fn) is {}'.format(best_counts))\n",
    "    return tag_thres\n",
    "\n",
    "def calc_threshold(path):\n",
    "    m = Models.load_resnet50(path)\n",
    "    d = Data(train=[0])\n",
    "    X, y = d.get_fold(0)\n",
    "    y_pred = m.predict(X, verbose=1)\n",
    "    return threshold(y_pred, y)"
   ]
  },
  {
   "cell_type": "code",
   "execution_count": 24,
   "metadata": {
    "collapsed": false
   },
   "outputs": [],
   "source": [
    "def test():\n",
    "    pred = np.array([[0.2], [0.6], [0.4], [0.8]])\n",
    "    true = np.array([[0], [1], [0], [1]])\n",
    "    thres = threshold(pred, true)\n",
    "    return thres"
   ]
  },
  {
   "cell_type": "code",
   "execution_count": null,
   "metadata": {
    "collapsed": true
   },
   "outputs": [],
   "source": [
    "t = calc_threshold('./weights-v9.hdf5')"
   ]
  },
  {
   "cell_type": "code",
   "execution_count": 25,
   "metadata": {
    "collapsed": false
   },
   "outputs": [
    {
     "data": {
      "text/plain": [
       "[0.23067564,\n",
       " 0.27402788,\n",
       " 0.15499838,\n",
       " 0.18645976,\n",
       " 0.12418672,\n",
       " 0.093219191,\n",
       " 0.14909597,\n",
       " 0.13256209,\n",
       " 0.041971382,\n",
       " 0.17731731,\n",
       " 0.10376091,\n",
       " 0.25468382,\n",
       " 0.090709485,\n",
       " 0.13336645,\n",
       " 0.13344041,\n",
       " 0.10004906,\n",
       " 0.036582272]"
      ]
     },
     "execution_count": 25,
     "metadata": {},
     "output_type": "execute_result"
    }
   ],
   "source": [
    "[0.23067564,\n",
    " 0.27402788,\n",
    " 0.15499838,\n",
    " 0.18645976,\n",
    " 0.12418672,\n",
    " 0.093219191,\n",
    " 0.14909597,\n",
    " 0.13256209,\n",
    " 0.041971382,\n",
    " 0.17731731,\n",
    " 0.10376091,\n",
    " 0.25468382,\n",
    " 0.090709485,\n",
    " 0.13336645,\n",
    " 0.13344041,\n",
    " 0.10004906,\n",
    " 0.036582272]"
   ]
  },
  {
   "cell_type": "markdown",
   "metadata": {},
   "source": [
    "Calc thresh for tag haze\n",
    "Best (tp, fp, tn, fn) is (446.0, 313.0, 7261, 76)\n",
    "Calc thresh for tag primary\n",
    "Best (tp, fp, tn, fn) is (7464.0, 242.0, 359, 31)\n",
    "Calc thresh for tag agriculture\n",
    "Best (tp, fp, tn, fn) is (2347.0, 960.0, 4655, 134)\n",
    "Calc thresh for tag clear\n",
    "Best (tp, fp, tn, fn) is (5642.0, 421.0, 1982, 51)\n",
    "Calc thresh for tag water\n",
    "Best (tp, fp, tn, fn) is (1321.0, 986.0, 5604, 185)\n",
    "Calc thresh for tag habitation\n",
    "Best (tp, fp, tn, fn) is (664.0, 737.0, 6606, 89)\n",
    "Calc thresh for tag road\n",
    "Best (tp, fp, tn, fn) is (1463.0, 782.0, 5702, 149)\n",
    "Calc thresh for tag cultivation\n",
    "Best (tp, fp, tn, fn) is (716.0, 1222.0, 5997, 161)\n",
    "Calc thresh for tag slash_burn\n",
    "Best (tp, fp, tn, fn) is (21.0, 236.0, 7822, 17)\n",
    "Calc thresh for tag cloudy\n",
    "Best (tp, fp, tn, fn) is (393.0, 182.0, 7500, 21)\n",
    "Calc thresh for tag partly_cloudy\n",
    "Best (tp, fp, tn, fn) is (1427.0, 259.0, 6370, 40)\n",
    "Calc thresh for tag conventional_mine\n",
    "Best (tp, fp, tn, fn) is (5.0, 11.0, 8072, 8)\n",
    "Calc thresh for tag bare_ground\n",
    "Best (tp, fp, tn, fn) is (119.0, 347.0, 7562, 68)\n",
    "Calc thresh for tag artisinal_mine\n",
    "Best (tp, fp, tn, fn) is (60.0, 37.0, 7993, 6)\n",
    "Calc thresh for tag blooming\n",
    "Best (tp, fp, tn, fn) is (24.0, 57.0, 7981, 34)\n",
    "Calc thresh for tag selective_logging\n",
    "Best (tp, fp, tn, fn) is (32.0, 117.0, 7921, 26)\n",
    "Calc thresh for tag blow_down\n",
    "Best (tp, fp, tn, fn) is (12.0, 61.0, 8010, 13)"
   ]
  }
 ],
 "metadata": {
  "kernelspec": {
   "display_name": "Python 3",
   "language": "python",
   "name": "python3"
  },
  "language_info": {
   "codemirror_mode": {
    "name": "ipython",
    "version": 3
   },
   "file_extension": ".py",
   "mimetype": "text/x-python",
   "name": "python",
   "nbconvert_exporter": "python",
   "pygments_lexer": "ipython3",
   "version": "3.6.0"
  }
 },
 "nbformat": 4,
 "nbformat_minor": 2
}
