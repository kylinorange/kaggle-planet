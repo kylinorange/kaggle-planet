{
 "cells": [
  {
   "cell_type": "markdown",
   "metadata": {},
   "source": [
    "# Classifier on top of the augmented training data predictions\n",
    "### a replacement of the mean tta predictions"
   ]
  },
  {
   "cell_type": "code",
   "execution_count": 8,
   "metadata": {
    "collapsed": false
   },
   "outputs": [
    {
     "name": "stdout",
     "output_type": "stream",
     "text": [
      "print function is ready to serve\n"
     ]
    }
   ],
   "source": [
    "# print_function for compatibility with Python 3\n",
    "from __future__ import print_function\n",
    "print('print function is ready to serve')\n",
    "\n",
    "# Matplotlib for visualization\n",
    "from matplotlib import pyplot as plt\n",
    "\n",
    "# display plots in the notebook\n",
    "%matplotlib inline\n",
    "\n",
    "# NumPy for numerical computing\n",
    "import numpy as np\n",
    "np.random.seed(123)\n",
    "import random\n",
    "random.seed(123)\n",
    "\n",
    "# Pandas for DataFrames\n",
    "import pandas as pd\n",
    "pd.set_option('display.max_column', 100)\n",
    "\n",
    "# sklearn for model training\n",
    "import sklearn\n",
    "from sklearn.linear_model import LogisticRegression\n",
    "from sklearn.ensemble import RandomForestClassifier, GradientBoostingClassifier\n",
    "from sklearn.model_selection import train_test_split\n",
    "from sklearn.pipeline import make_pipeline\n",
    "from sklearn.preprocessing import StandardScaler\n",
    "from sklearn.model_selection import GridSearchCV\n",
    "from sklearn.metrics import roc_curve, auc\n",
    "from sklearn.metrics import fbeta_score, make_scorer\n",
    "\n",
    "\n",
    "import os\n",
    "import gc\n",
    "from skimage import io\n",
    "from skimage.transform import rescale, resize, downscale_local_mean"
   ]
  },
  {
   "cell_type": "code",
   "execution_count": 2,
   "metadata": {
    "collapsed": false
   },
   "outputs": [
    {
     "name": "stderr",
     "output_type": "stream",
     "text": [
      "Using TensorFlow backend.\n"
     ]
    }
   ],
   "source": [
    "import sys\n",
    "sys.path.append('./utils')\n",
    "\n",
    "from data import Data\n",
    "from models import Models\n",
    "from tags import Tags\n",
    "tags = Tags()"
   ]
  },
  {
   "cell_type": "code",
   "execution_count": 3,
   "metadata": {
    "collapsed": true
   },
   "outputs": [],
   "source": [
    "PLANET_KAGGLE_ROOT = '/data/planet-data/'\n",
    "if not os.path.exists(PLANET_KAGGLE_ROOT):\n",
    "    PLANET_KAGGLE_ROOT = '/Users/jiayou/Documents/Kaggle Data/Amazon'\n",
    "\n",
    "N_TAGS = 17\n",
    "N_TRAIN = 40479\n",
    "# N_TRAIN = 10\n",
    "N_TEST_T = 40669\n",
    "N_TEST_F = 20522\n",
    "N_TEST = N_TEST_T + N_TEST_F"
   ]
  },
  {
   "cell_type": "code",
   "execution_count": 4,
   "metadata": {
    "collapsed": true
   },
   "outputs": [],
   "source": [
    "val = 4\n",
    "train_pred = np.load(os.path.join(PLANET_KAGGLE_ROOT, 'ensemble', 'raw_train_pred.v9.f{}.tta8.npy'.format(val)))\n",
    "y_true = tags.y_train(range(N_TRAIN))"
   ]
  },
  {
   "cell_type": "code",
   "execution_count": 5,
   "metadata": {
    "collapsed": false
   },
   "outputs": [
    {
     "data": {
      "text/plain": [
       "(40479, 17)"
      ]
     },
     "execution_count": 5,
     "metadata": {},
     "output_type": "execute_result"
    }
   ],
   "source": [
    "y_true.shape"
   ]
  },
  {
   "cell_type": "code",
   "execution_count": 6,
   "metadata": {
    "collapsed": false
   },
   "outputs": [],
   "source": [
    "pipelines = {\n",
    "    'l1':make_pipeline(StandardScaler(), LogisticRegression(random_state = 123, penalty = 'l1')),\n",
    "    'l2':make_pipeline(StandardScaler(), LogisticRegression(random_state = 123, penalty = 'l2')),\n",
    "    'rf':make_pipeline(StandardScaler(), RandomForestClassifier(random_state = 123)),\n",
    "    'gb':make_pipeline(StandardScaler(), GradientBoostingClassifier(random_state = 123))\n",
    "}\n"
   ]
  },
  {
   "cell_type": "code",
   "execution_count": 7,
   "metadata": {
    "collapsed": true
   },
   "outputs": [],
   "source": [
    "l1_hyperparameters = {\n",
    "    'logisticregression__C':np.linspace(1e-3, 1e3, 10)\n",
    "}\n",
    "\n",
    "l2_hyperparameters = {\n",
    "    'logisticregression__C':np.linspace(1e-3, 1e3, 10)\n",
    "}\n",
    "\n",
    "rf_hyperparameters = {\n",
    "    'randomforestclassifier__n_estimators': [20, 100, 200],\n",
    "    'randomforestclassifier__max_features':['auto', 'sqrt', 0.33]\n",
    "}\n",
    "\n",
    "gb_hyperparameters = {\n",
    "    'gradientboostingclassifier__n_estimators':[20, 100, 200],\n",
    "    'gradientboostingclassifier__learning_rate':[0.05, 0.1, 0.2],\n",
    "    'gradientboostingclassifier__max_depth':[1,3,5]\n",
    "}\n",
    "\n",
    "hyperparameters = {\n",
    "    'l1':l1_hyperparameters,\n",
    "    'l2':l2_hyperparameters,\n",
    "    'rf':rf_hyperparameters,\n",
    "    'gb':gb_hyperparameters\n",
    "}"
   ]
  },
  {
   "cell_type": "code",
   "execution_count": 18,
   "metadata": {
    "collapsed": false
   },
   "outputs": [],
   "source": [
    "ftwo_scorer = make_scorer(fbeta_score, beta=2)\n",
    "\n",
    "def top_classifier(tag_id):\n",
    "    tag_name = tags.idx_to_tag(tag_id)\n",
    "    feature = train_pred[:,tag_id]\n",
    "    feature = feature.reshape((N_TRAIN, 8))\n",
    "    feature.sort(axis = 1)\n",
    "    X = pd.DataFrame(feature)\n",
    "#     X['mean'] = feature.mean(axis = 1)\n",
    "#     X['std'] = feature.std(axis = 1)\n",
    "#     X['median'] = np.median(feature, axis = 1)\n",
    "#     X['min'] = feature.min(axis = 1)\n",
    "#     X['max'] = feature.max(axis = 1)\n",
    "    y = y_true[:,tag_id]\n",
    "    # X = X.drop(['0', '1', '2', '3', '4', '5', '6', '7'], axis = 1)\n",
    "    X_train, X_test, y_train, y_test = train_test_split(X, y, random_state = 1234, test_size = 0.2, stratify = y)\n",
    "    X_average = X_test.mean(axis = 1)\n",
    "    fitted_models = {}\n",
    "    for name in pipelines:\n",
    "        model = GridSearchCV(pipelines[name], hyperparameters[name], scoring=ftwo_scorer, cv = 10, n_jobs = -1)\n",
    "        model.fit(X_train, y_train)\n",
    "        fitted_models[name] = model\n",
    "        print('{} has been fitted on {}'.format(name, tag_name))\n",
    "    for name, model in fitted_models.items():\n",
    "        pred = fitted_models[name].predict_proba(X_test)\n",
    "        pred = [p[1] for p in pred]\n",
    "        f2_average = fbeta_score(y_true = y_test, y_pred = (X_average > 0.2).astype('int'), beta = 2)\n",
    "        f2_modeled = fbeta_score(y_true = y_test, y_pred = (pred > 0.2).astype('int'), beta = 2)\n",
    "        print('{} on {}: best_score is {}; average score is {}'.format(tag_name, name, f2_modeled, f2_average))\n",
    "#         fpr, tpr, thresholds = roc_curve(y_test, pred)\n",
    "#         auc_classifier = auc(fpr, tpr)\n",
    "#         fpr_ave, tpr_ave, thresholds_ave = roc_curve(y_test, X_average)\n",
    "#         auc_ave = auc(fpr_ave, tpr_ave)\n",
    "#         print('{} on {}: best_score is {}; auc is {}; average auc is{}'.format(tag_name, name, model.best_score_, auc_classifier, auc_ave))\n",
    "    return fitted_models\n",
    "  "
   ]
  },
  {
   "cell_type": "code",
   "execution_count": null,
   "metadata": {
    "collapsed": false
   },
   "outputs": [
    {
     "name": "stdout",
     "output_type": "stream",
     "text": [
      "l1 has been fitted on haze\n",
      "l2 has been fitted on haze\n",
      "rf has been fitted on haze\n"
     ]
    }
   ],
   "source": [
    "result_f2 = []\n",
    "for tag_id in range(N_TAGS):\n",
    "    result_f2.append(top_classifier(tag_id))"
   ]
  },
  {
   "cell_type": "code",
   "execution_count": 111,
   "metadata": {
    "collapsed": false,
    "scrolled": false
   },
   "outputs": [
    {
     "name": "stdout",
     "output_type": "stream",
     "text": [
      "l1 has been fitted on haze\n",
      "l2 has been fitted on haze\n",
      "rf has been fitted on haze\n",
      "gb has been fitted on haze\n",
      "haze on l1: best_score is 0.965012506562085; auc is 0.9796537042042628; average auc is0.9797801397075486\n",
      "haze on l2: best_score is 0.9639934533551555; auc is 0.9797875048824972; average auc is0.9797801397075486\n",
      "haze on rf: best_score is 0.962943519748016; auc is 0.9715138356038941; average auc is0.9797801397075486\n",
      "haze on gb: best_score is 0.9647037025599852; auc is 0.978871277118881; average auc is0.9797801397075486\n",
      "l1 has been fitted on primary\n",
      "l2 has been fitted on primary\n",
      "rf has been fitted on primary\n",
      "gb has been fitted on primary\n",
      "primary on l1: best_score is 0.972114998610382; auc is 0.9874770721278662; average auc is0.9875386551394058\n",
      "primary on l2: best_score is 0.972084118210172; auc is 0.9872318638592904; average auc is0.9875386551394058\n",
      "primary on rf: best_score is 0.9702312941975728; auc is 0.9797546973341074; average auc is0.9875386551394058\n",
      "primary on gb: best_score is 0.9724238026124818; auc is 0.977850343842227; average auc is0.9875386551394058\n",
      "l1 has been fitted on agriculture\n",
      "l2 has been fitted on agriculture\n",
      "rf has been fitted on agriculture\n",
      "gb has been fitted on agriculture\n",
      "agriculture on l1: best_score is 0.9082852113763394; auc is 0.9672032284088912; average auc is0.9672090666342608\n",
      "agriculture on l2: best_score is 0.9083778525769693; auc is 0.9669913224510254; average auc is0.9672090666342608\n",
      "agriculture on rf: best_score is 0.9036222709446314; auc is 0.9633050957832948; average auc is0.9672090666342608\n",
      "agriculture on gb: best_score is 0.9085013741778093; auc is 0.966905839299315; average auc is0.9672090666342608\n",
      "l1 has been fitted on clear\n",
      "l2 has been fitted on clear\n",
      "rf has been fitted on clear\n",
      "gb has been fitted on clear\n",
      "clear on l1: best_score is 0.9587129049192478; auc is 0.9903867400895846; average auc is0.9904257089188997\n",
      "clear on l2: best_score is 0.9587746657196677; auc is 0.990385134632197; average auc is0.9904257089188997\n",
      "clear on rf: best_score is 0.9575703301114783; auc is 0.9865754207392986; average auc is0.9904257089188997\n",
      "clear on gb: best_score is 0.9587437853194577; auc is 0.9903495226683285; average auc is0.9904257089188997\n",
      "l1 has been fitted on water\n",
      "l2 has been fitted on water\n",
      "rf has been fitted on water\n",
      "gb has been fitted on water\n",
      "water on l1: best_score is 0.9239106938825927; auc is 0.9516934797042383; average auc is0.9506771511132276\n",
      "water on l2: best_score is 0.9238798134823827; auc is 0.9507280593612616; average auc is0.9506771511132276\n",
      "water on rf: best_score is 0.9217799462681037; auc is 0.9444434922527645; average auc is0.9506771511132276\n",
      "water on gb: best_score is 0.9239724546830127; auc is 0.9506594505500335; average auc is0.9506771511132276\n",
      "l1 has been fitted on habitation\n",
      "l2 has been fitted on habitation\n",
      "rf has been fitted on habitation\n",
      "gb has been fitted on habitation\n",
      "habitation on l1: best_score is 0.9525985856776704; auc is 0.9635588730287353; average auc is0.9633054618094822\n",
      "habitation on l2: best_score is 0.9544205292900596; auc is 0.963392467564848; average auc is0.9633054618094822\n",
      "habitation on rf: best_score is 0.9515795324707408; auc is 0.9502721295150236; average auc is0.9633054618094822\n",
      "habitation on gb: best_score is 0.9546984528919494; auc is 0.9632101079539215; average auc is0.9633054618094822\n",
      "l1 has been fitted on road\n",
      "l2 has been fitted on road\n",
      "rf has been fitted on road\n",
      "gb has been fitted on road\n",
      "road on l1: best_score is 0.9340394651514684; auc is 0.9721410391257918; average auc is0.9721602516089738\n",
      "road on l2: best_score is 0.9338541827502085; auc is 0.9719729060018268; average auc is0.9721602516089738\n",
      "road on rf: best_score is 0.9321866411388692; auc is 0.9687593075400489; average auc is0.9721602516089738\n",
      "road on gb: best_score is 0.9339777043510484; auc is 0.9714088619060235; average auc is0.9721602516089738\n",
      "l1 has been fitted on cultivation\n",
      "l2 has been fitted on cultivation\n",
      "rf has been fitted on cultivation\n",
      "gb has been fitted on cultivation\n",
      "cultivation on l1: best_score is 0.9206373714603341; auc is 0.9277127090511171; average auc is0.9298163895610401\n",
      "cultivation on l2: best_score is 0.9206373714603341; auc is 0.9277015374183754; average auc is0.9298163895610401\n",
      "cultivation on rf: best_score is 0.9168390822345057; auc is 0.914400855250551; average auc is0.9298163895610401\n",
      "cultivation on gb: best_score is 0.9205447302597042; auc is 0.9278861796817481; average auc is0.9298163895610401\n",
      "l1 has been fitted on slash_burn\n",
      "l2 has been fitted on slash_burn\n",
      "rf has been fitted on slash_burn\n",
      "gb has been fitted on slash_burn\n",
      "slash_burn on l1: best_score is 0.9948429731649322; auc is 0.5; average auc is0.918425627017631\n",
      "slash_burn on l2: best_score is 0.9948120927647223; auc is 0.9183694585358355; average auc is0.918425627017631\n",
      "slash_burn on rf: best_score is 0.9948120927647223; auc is 0.799932302198257; average auc is0.918425627017631\n",
      "slash_burn on gb: best_score is 0.9948429731649322; auc is 0.829437014438256; average auc is0.918425627017631\n",
      "l1 has been fitted on cloudy\n",
      "l2 has been fitted on cloudy\n",
      "rf has been fitted on cloudy\n",
      "gb has been fitted on cloudy\n",
      "cloudy on l1: best_score is 0.9856097335021462; auc is 0.9961915047155173; average auc is0.9962120692813993\n",
      "cloudy on l2: best_score is 0.9852082882994163; auc is 0.9962207936426825; average auc is0.9962120692813993\n",
      "cloudy on rf: best_score is 0.9842818762931168; auc is 0.9929644257936987; average auc is0.9962120692813993\n",
      "cloudy on gb: best_score is 0.9857332551029862; auc is 0.9753918484553519; average auc is0.9962120692813993\n",
      "l1 has been fitted on partly_cloudy\n",
      "l2 has been fitted on partly_cloudy\n",
      "rf has been fitted on partly_cloudy\n",
      "gb has been fitted on partly_cloudy\n",
      "partly_cloudy on l1: best_score is 0.974585430627181; auc is 0.9959944389436481; average auc is0.9959543232113153\n",
      "partly_cloudy on l2: best_score is 0.974585430627181; auc is 0.9959448903130146; average auc is0.9959543232113153\n",
      "partly_cloudy on rf: best_score is 0.9735972578204614; auc is 0.9941929626846984; average auc is0.9959543232113153\n",
      "partly_cloudy on gb: best_score is 0.9746471914276009; auc is 0.9956317906501941; average auc is0.9959543232113153\n",
      "l1 has been fitted on conventional_mine\n",
      "l2 has been fitted on conventional_mine\n",
      "rf has been fitted on conventional_mine\n",
      "gb has been fitted on conventional_mine\n",
      "conventional_mine on l1: best_score is 0.9981471759874008; auc is 0.9906760772659733; average auc is0.9917533432392273\n",
      "conventional_mine on l2: best_score is 0.9981471759874008; auc is 0.991487122337791; average auc is0.9917533432392273\n",
      "conventional_mine on rf: best_score is 0.9980545347867709; auc is 0.7710252600297177; average auc is0.9917533432392273\n",
      "conventional_mine on gb: best_score is 0.9982089367878207; auc is 0.6997523526498266; average auc is0.9917533432392273\n",
      "l1 has been fitted on bare_ground\n",
      "l2 has been fitted on bare_ground\n",
      "rf has been fitted on bare_ground\n",
      "gb has been fitted on bare_ground\n",
      "bare_ground on l1: best_score is 0.9798659790630887; auc is 0.9317623528168766; average auc is0.9342988037519224\n",
      "bare_ground on l2: best_score is 0.9803909458666584; auc is 0.9343817134874328; average auc is0.9342988037519224\n",
      "bare_ground on rf: best_score is 0.9799895006639286; auc is 0.9009907346536279; average auc is0.9342988037519224\n",
      "bare_ground on gb: best_score is 0.9804527066670784; auc is 0.9007665848819599; average auc is0.9342988037519224\n",
      "l1 has been fitted on artisinal_mine\n",
      "l2 has been fitted on artisinal_mine\n",
      "rf has been fitted on artisinal_mine\n",
      "gb has been fitted on artisinal_mine\n",
      "artisinal_mine on l1: best_score is 0.9964178735756415; auc is 0.993890867258712; average auc is0.9949111931768222\n",
      "artisinal_mine on l2: best_score is 0.9965413951764814; auc is 0.9949459978311205; average auc is0.9949111931768222\n",
      "artisinal_mine on rf: best_score is 0.9962943519748015; auc is 0.9615573434156921; average auc is0.9949111931768222\n",
      "artisinal_mine on gb: best_score is 0.9966957971775314; auc is 0.9622296227908202; average auc is0.9949111931768222\n",
      "l1 has been fitted on blooming\n",
      "l2 has been fitted on blooming\n",
      "rf has been fitted on blooming\n",
      "gb has been fitted on blooming\n",
      "blooming on l1: best_score is 0.9917858135441435; auc is 0.9396373448054645; average auc is0.9413675987773122\n",
      "blooming on l2: best_score is 0.9915696507426737; auc is 0.9413449564134495; average auc is0.9413675987773122\n",
      "blooming on rf: best_score is 0.9914770095420437; auc is 0.8196743273331069; average auc is0.9413675987773122\n",
      "blooming on gb: best_score is 0.9917858135441435; auc is 0.8636203252952941; average auc is0.9413675987773122\n",
      "l1 has been fitted on selective_logging\n",
      "l2 has been fitted on selective_logging\n",
      "rf has been fitted on selective_logging\n",
      "gb has been fitted on selective_logging\n",
      "selective_logging on l1: best_score is 0.9918475743445635; auc is 0.9679797180456637; average auc is0.9653015914886134\n",
      "selective_logging on l2: best_score is 0.9922798999475033; auc is 0.9658163340074446; average auc is0.9653015914886134\n",
      "selective_logging on rf: best_score is 0.9917858135441435; auc is 0.9022950921773791; average auc is0.9653015914886134\n",
      "selective_logging on gb: best_score is 0.9921254979464534; auc is 0.9598354289398869; average auc is0.9653015914886134\n",
      "l1 has been fitted on blow_down\n",
      "l2 has been fitted on blow_down\n",
      "rf has been fitted on blow_down\n",
      "gb has been fitted on blow_down\n",
      "blow_down on l1: best_score is 0.997591328783621; auc is 0.5; average auc is0.9570517582961863\n",
      "blow_down on l2: best_score is 0.997683969984251; auc is 0.9570393759286776; average auc is0.9570517582961863\n",
      "blow_down on rf: best_score is 0.997653089584041; auc is 0.8517552005943536; average auc is0.9570517582961863\n",
      "blow_down on gb: best_score is 0.9975604483834111; auc is 0.3756810302129767; average auc is0.9570517582961863\n"
     ]
    }
   ],
   "source": [
    "result = []\n",
    "for tag_id in range(N_TAGS):\n",
    "    result.append(top_classifier(tag_id))"
   ]
  },
  {
   "cell_type": "code",
   "execution_count": 104,
   "metadata": {
    "collapsed": false
   },
   "outputs": [
    {
     "name": "stdout",
     "output_type": "stream",
     "text": [
      "('logisticregression', LogisticRegression(C=111.11200000000001, class_weight=None, dual=False,\n",
      "          fit_intercept=True, intercept_scaling=1, max_iter=100,\n",
      "          multi_class='ovr', n_jobs=1, penalty='l1', random_state=123,\n",
      "          solver='liblinear', tol=0.0001, verbose=0, warm_start=False))\n",
      "('logisticregression', LogisticRegression(C=111.11200000000001, class_weight=None, dual=False,\n",
      "          fit_intercept=True, intercept_scaling=1, max_iter=100,\n",
      "          multi_class='ovr', n_jobs=1, penalty='l2', random_state=123,\n",
      "          solver='liblinear', tol=0.0001, verbose=0, warm_start=False))\n",
      "('randomforestclassifier', RandomForestClassifier(bootstrap=True, class_weight=None, criterion='gini',\n",
      "            max_depth=None, max_features=0.33, max_leaf_nodes=None,\n",
      "            min_impurity_split=1e-07, min_samples_leaf=1,\n",
      "            min_samples_split=2, min_weight_fraction_leaf=0.0,\n",
      "            n_estimators=200, n_jobs=1, oob_score=False, random_state=123,\n",
      "            verbose=0, warm_start=False))\n",
      "('gradientboostingclassifier', GradientBoostingClassifier(criterion='friedman_mse', init=None,\n",
      "              learning_rate=0.1, loss='deviance', max_depth=1,\n",
      "              max_features=None, max_leaf_nodes=None,\n",
      "              min_impurity_split=1e-07, min_samples_leaf=1,\n",
      "              min_samples_split=2, min_weight_fraction_leaf=0.0,\n",
      "              n_estimators=20, presort='auto', random_state=123,\n",
      "              subsample=1.0, verbose=0, warm_start=False))\n"
     ]
    }
   ],
   "source": [
    "for name, model in fitted_models.items():\n",
    "    print(model.best_estimator_.steps[1])"
   ]
  },
  {
   "cell_type": "code",
   "execution_count": 103,
   "metadata": {
    "collapsed": false
   },
   "outputs": [
    {
     "name": "stdout",
     "output_type": "stream",
     "text": [
      "l1 0.95162624817\n",
      "l2 0.951631553238\n",
      "rf 0.940551867853\n",
      "gb 0.937436670752\n"
     ]
    }
   ],
   "source": [
    "for name, model in fitted_models.items():\n",
    "    pred = fitted_models[name].predict_proba(X_test)\n",
    "    pred = [p[1] for p in pred]\n",
    "    fpr, tpr, thresholds = roc_curve(y_test, pred)\n",
    "    print(name, auc(fpr, tpr))"
   ]
  },
  {
   "cell_type": "code",
   "execution_count": 55,
   "metadata": {
    "collapsed": false
   },
   "outputs": [
    {
     "data": {
      "text/plain": [
       "(8096,)"
      ]
     },
     "execution_count": 55,
     "metadata": {},
     "output_type": "execute_result"
    }
   ],
   "source": [
    "X_average = X_test.mean(axis = 1)\n",
    "X_average.shape"
   ]
  },
  {
   "cell_type": "code",
   "execution_count": 56,
   "metadata": {
    "collapsed": false
   },
   "outputs": [
    {
     "name": "stdout",
     "output_type": "stream",
     "text": [
      "0.950677151113\n"
     ]
    }
   ],
   "source": [
    "fpr, tpr, thresholds = roc_curve(y_test, X_average)\n",
    "print(auc(fpr, tpr))"
   ]
  },
  {
   "cell_type": "code",
   "execution_count": 71,
   "metadata": {
    "collapsed": false
   },
   "outputs": [
    {
     "data": {
      "text/plain": [
       "array([[ 0.99384856,  0.00615144],\n",
       "       [ 0.51562938,  0.48437062],\n",
       "       [ 0.99173061,  0.00826939],\n",
       "       ..., \n",
       "       [ 0.81506768,  0.18493232],\n",
       "       [ 0.78540844,  0.21459156],\n",
       "       [ 0.94157646,  0.05842354]])"
      ]
     },
     "execution_count": 71,
     "metadata": {},
     "output_type": "execute_result"
    }
   ],
   "source": []
  },
  {
   "cell_type": "code",
   "execution_count": null,
   "metadata": {
    "collapsed": true
   },
   "outputs": [],
   "source": []
  }
 ],
 "metadata": {
  "kernelspec": {
   "display_name": "Python 3",
   "language": "python",
   "name": "python3"
  },
  "language_info": {
   "codemirror_mode": {
    "name": "ipython",
    "version": 3
   },
   "file_extension": ".py",
   "mimetype": "text/x-python",
   "name": "python",
   "nbconvert_exporter": "python",
   "pygments_lexer": "ipython3",
   "version": "3.6.0"
  }
 },
 "nbformat": 4,
 "nbformat_minor": 2
}
