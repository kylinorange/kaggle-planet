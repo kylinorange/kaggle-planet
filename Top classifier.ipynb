{
 "cells": [
  {
   "cell_type": "code",
   "execution_count": 17,
   "metadata": {
    "collapsed": false
   },
   "outputs": [
    {
     "name": "stdout",
     "output_type": "stream",
     "text": [
      "print function is ready to serve\n"
     ]
    }
   ],
   "source": [
    "# print_function for compatibility with Python 3\n",
    "from __future__ import print_function\n",
    "print('print function is ready to serve')\n",
    "\n",
    "# Matplotlib for visualization\n",
    "from matplotlib import pyplot as plt\n",
    "\n",
    "# display plots in the notebook\n",
    "%matplotlib inline\n",
    "\n",
    "# NumPy for numerical computing\n",
    "import numpy as np\n",
    "np.random.seed(123)\n",
    "import random\n",
    "random.seed(123)\n",
    "\n",
    "# Pandas for DataFrames\n",
    "import pandas as pd\n",
    "pd.set_option('display.max_column', 100)\n",
    "\n",
    "# sklearn for model training\n",
    "import sklearn\n",
    "from sklearn.linear_model import LogisticRegression\n",
    "from sklearn.ensemble import RandomForestClassifier, GradientBoostingClassifier\n",
    "from sklearn.model_selection import train_test_split\n",
    "from sklearn.pipeline import make_pipeline\n",
    "from sklearn.preprocessing import StandardScaler\n",
    "from sklearn.model_selection import GridSearchCV\n",
    "\n",
    "import os\n",
    "import gc\n",
    "from skimage import io\n",
    "from skimage.transform import rescale, resize, downscale_local_mean"
   ]
  },
  {
   "cell_type": "code",
   "execution_count": 2,
   "metadata": {
    "collapsed": false
   },
   "outputs": [
    {
     "name": "stderr",
     "output_type": "stream",
     "text": [
      "Using TensorFlow backend.\n"
     ]
    }
   ],
   "source": [
    "import sys\n",
    "sys.path.append('./utils')\n",
    "\n",
    "from data import Data\n",
    "from models import Models\n",
    "from tags import Tags\n",
    "tags = Tags()"
   ]
  },
  {
   "cell_type": "code",
   "execution_count": 3,
   "metadata": {
    "collapsed": true
   },
   "outputs": [],
   "source": [
    "PLANET_KAGGLE_ROOT = '/data/planet-data/'\n",
    "if not os.path.exists(PLANET_KAGGLE_ROOT):\n",
    "    PLANET_KAGGLE_ROOT = '/Users/jiayou/Documents/Kaggle Data/Amazon'\n",
    "\n",
    "N_TAGS = 17\n",
    "N_TRAIN = 40479\n",
    "# N_TRAIN = 10\n",
    "N_TEST_T = 40669\n",
    "N_TEST_F = 20522\n",
    "N_TEST = N_TEST_T + N_TEST_F"
   ]
  },
  {
   "cell_type": "code",
   "execution_count": 6,
   "metadata": {
    "collapsed": true
   },
   "outputs": [],
   "source": [
    "val = 4\n",
    "train_pred = np.load(os.path.join(PLANET_KAGGLE_ROOT, 'ensemble', 'raw_train_pred.v9.f{}.tta8.npy'.format(val)))\n",
    "y_true = tags.y_train(range(N_TRAIN))"
   ]
  },
  {
   "cell_type": "code",
   "execution_count": 7,
   "metadata": {
    "collapsed": false
   },
   "outputs": [
    {
     "data": {
      "text/plain": [
       "(40479, 17)"
      ]
     },
     "execution_count": 7,
     "metadata": {},
     "output_type": "execute_result"
    }
   ],
   "source": [
    "y_true.shape"
   ]
  },
  {
   "cell_type": "code",
   "execution_count": 15,
   "metadata": {
    "collapsed": false
   },
   "outputs": [
    {
     "data": {
      "text/plain": [
       "array([[ 0.99988508,  0.99992394,  0.99992931,  0.9999404 ,  0.99994886,\n",
       "         0.9999249 ,  0.99991739,  0.99986732],\n",
       "       [ 0.99981648,  0.99988842,  0.99989939,  0.99991977,  0.99992716,\n",
       "         0.99997962,  0.99997914,  0.99979585],\n",
       "       [ 0.99998665,  0.99999285,  0.99999213,  0.99997306,  0.99997568,\n",
       "         0.99998569,  0.99998927,  0.99998856],\n",
       "       [ 0.99998236,  0.99998641,  0.99998534,  0.99998748,  0.99998844,\n",
       "         0.99998963,  0.99998748,  0.9999851 ],\n",
       "       [ 0.98875463,  0.98906404,  0.99273419,  0.99573368,  0.99392128,\n",
       "         0.99558973,  0.99535817,  0.99027658],\n",
       "       [ 0.98680645,  0.97594714,  0.98422468,  0.98863518,  0.98770344,\n",
       "         0.98292094,  0.97656107,  0.98564434],\n",
       "       [ 0.99936754,  0.99843389,  0.99904042,  0.99957711,  0.99939501,\n",
       "         0.99871278,  0.99884206,  0.99948221],\n",
       "       [ 0.86359537,  0.9050163 ,  0.91166967,  0.8922053 ,  0.8615253 ,\n",
       "         0.88500553,  0.9287594 ,  0.88375068],\n",
       "       [ 0.99997354,  0.99997115,  0.99997592,  0.99996567,  0.99996948,\n",
       "         0.99998593,  0.99998736,  0.99997747],\n",
       "       [ 0.98289108,  0.98667359,  0.98772126,  0.99546754,  0.99447387,\n",
       "         0.99474347,  0.99590021,  0.98602247],\n",
       "       [ 0.99990702,  0.99993622,  0.99994445,  0.99990451,  0.99989831,\n",
       "         0.99991465,  0.99992871,  0.99991941],\n",
       "       [ 0.99997842,  0.99992836,  0.99993432,  0.99988103,  0.9998796 ,\n",
       "         0.99992764,  0.99994934,  0.99998164],\n",
       "       [ 0.65246642,  0.6599167 ,  0.55645716,  0.63262206,  0.63794386,\n",
       "         0.6352185 ,  0.60713005,  0.53129494],\n",
       "       [ 0.99997687,  0.99997771,  0.9999752 ,  0.99998713,  0.99998629,\n",
       "         0.99998105,  0.99997759,  0.9999758 ],\n",
       "       [ 0.20760626,  0.17208169,  0.17569131,  0.24858844,  0.25691009,\n",
       "         0.18410604,  0.17380142,  0.20496012],\n",
       "       [ 0.99998772,  0.99999285,  0.99998426,  0.99998033,  0.9999913 ,\n",
       "         0.99998236,  0.99997103,  0.99997783],\n",
       "       [ 0.99999213,  0.99999535,  0.99999297,  0.99999261,  0.99999237,\n",
       "         0.99999607,  0.99999523,  0.99999285],\n",
       "       [ 0.99670213,  0.99705231,  0.99495125,  0.99350423,  0.99693108,\n",
       "         0.99675959,  0.99670357,  0.99758649],\n",
       "       [ 0.99999499,  0.99999273,  0.99999297,  0.99999571,  0.99999547,\n",
       "         0.99999332,  0.99999464,  0.99999416],\n",
       "       [ 0.70247376,  0.71610224,  0.72116351,  0.7222361 ,  0.77892536,\n",
       "         0.68686986,  0.69831067,  0.76097625]])"
      ]
     },
     "execution_count": 15,
     "metadata": {},
     "output_type": "execute_result"
    }
   ],
   "source": [
    "tag_id = 1\n",
    "feature = train_pred[:,tag_id]\n",
    "feature = feature.reshape((N_TRAIN, 8))\n",
    "y = y_true[:,tag_id]\n",
    "feature[:20]"
   ]
  },
  {
   "cell_type": "code",
   "execution_count": null,
   "metadata": {
    "collapsed": true
   },
   "outputs": [],
   "source": []
  }
 ],
 "metadata": {
  "kernelspec": {
   "display_name": "Python 3",
   "language": "python",
   "name": "python3"
  },
  "language_info": {
   "codemirror_mode": {
    "name": "ipython",
    "version": 3
   },
   "file_extension": ".py",
   "mimetype": "text/x-python",
   "name": "python",
   "nbconvert_exporter": "python",
   "pygments_lexer": "ipython3",
   "version": "3.6.0"
  }
 },
 "nbformat": 4,
 "nbformat_minor": 2
}
