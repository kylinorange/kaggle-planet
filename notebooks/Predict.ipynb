{
 "cells": [
  {
   "cell_type": "code",
   "execution_count": 2,
   "metadata": {
    "collapsed": true
   },
   "outputs": [],
   "source": [
    "# Pandas for DataFrames\n",
    "import pandas as pd\n",
    "pd.set_option('display.max_column', 100)\n",
    "\n",
    "# NumPy for numerical computing\n",
    "import numpy as np\n",
    "np.random.seed(123)\n",
    "import random\n",
    "random.seed(123)\n",
    "\n",
    "import tensorflow as tf\n",
    "\n",
    "import os, gc\n",
    "import threading\n",
    "\n",
    "# Matplotlib for visualization\n",
    "from matplotlib import pyplot as plt\n",
    "\n",
    "# display plots in the notebook\n",
    "%matplotlib inline"
   ]
  },
  {
   "cell_type": "code",
   "execution_count": 3,
   "metadata": {
    "collapsed": false
   },
   "outputs": [
    {
     "name": "stderr",
     "output_type": "stream",
     "text": [
      "Using TensorFlow backend.\n"
     ]
    }
   ],
   "source": [
    "import sys\n",
    "sys.path.append('./utils')\n",
    "\n",
    "from data import Data\n",
    "from models import Models\n",
    "from tags import Tags\n",
    "tags = Tags()"
   ]
  },
  {
   "cell_type": "code",
   "execution_count": 4,
   "metadata": {
    "collapsed": false
   },
   "outputs": [],
   "source": [
    "PLANET_KAGGLE_ROOT = '/data/planet-data/'\n",
    "if not os.path.exists(PLANET_KAGGLE_ROOT):\n",
    "    PLANET_KAGGLE_ROOT = '/Users/jiayou/Documents/Kaggle Data/Amazon'\n",
    "    \n",
    "N_TAGS = 17\n",
    "N_TRAIN = 40479\n",
    "N_TEST_T = 40669\n",
    "N_TEST_F = 20522\n",
    "N_TEST = N_TEST_T + N_TEST_F"
   ]
  },
  {
   "cell_type": "markdown",
   "metadata": {},
   "source": [
    "# Predict test data"
   ]
  },
  {
   "cell_type": "code",
   "execution_count": 4,
   "metadata": {
    "collapsed": true
   },
   "outputs": [],
   "source": [
    "def predict_on_gpu(batch_size=20, name='', gpu=0):\n",
    "    g = tf.Graph()\n",
    "    with g.as_default():\n",
    "        sess = tf.Session()\n",
    "        with sess.as_default():\n",
    "            with tf.device('/gpu:{}'.format(gpu)):\n",
    "                predict(batch_size=batch_size, name=name)\n",
    "\n",
    "def predict(batch_size=20, name=''):\n",
    "    m = Models.load_incnet('weights-{}.hdf5'.format(name))\n",
    "    print('Model weights loaded')\n",
    "    \n",
    "    d = Data(train=[])\n",
    "    \n",
    "    cnt = 0\n",
    "    pred = np.zeros((N_TEST, N_TAGS))\n",
    "    pred8 = np.zeros((N_TEST * 8, N_TAGS))\n",
    "    print('Start predicting..')\n",
    "    for X_test in d.gen_test_augmented(batch_size):\n",
    "        y_test = m.predict_on_batch(X_test)\n",
    "        k = int(len(y_test) / 8 + 0.1)\n",
    "        pred8[cnt*8:(cnt+k)*8,:] = y_test[:,:]\n",
    "        for i in range(k):\n",
    "            pred[cnt+i,:] = d.consolidate(y_test[8*i:8*(i+1),:])\n",
    "        cnt += k\n",
    "        print('Predicted {} images for {}'.format(cnt, name))\n",
    "    print('Predicted all {} images for {}'.format(cnt, name))\n",
    "            \n",
    "    print('Saving raw predictions for {}...'.format(name))\n",
    "    np.save('raw_pred.{}.npy'.format(name), pred)\n",
    "    np.save('raw_pred.{}.tta8.npy'.format(name), pred8)\n",
    "    print('Saved')\n",
    "    \n",
    "    thres = [0.2]*17\n",
    "    result = tags.pred_to_output(pred, thres)\n",
    "    print('Saving submission file for {}...'.format(name))\n",
    "    result.to_csv('submission.{}.csv'.format(name), index = None)\n",
    "    print('Saved')\n",
    "    return result"
   ]
  },
  {
   "cell_type": "code",
   "execution_count": 6,
   "metadata": {
    "collapsed": true
   },
   "outputs": [],
   "source": []
  },
  {
   "cell_type": "code",
   "execution_count": 7,
   "metadata": {
    "collapsed": true
   },
   "outputs": [],
   "source": [
    "# Predict test data in parallel\n",
    "ts = []\n",
    "for i in range(8):\n",
    "    t = threading.Thread(\n",
    "        target=predict_on_gpu, \n",
    "        kwargs={'name': 'v13-n{}'.format(i), 'gpu': i})\n",
    "    t.start()\n",
    "    ts.append(t)\n",
    "for i in range(len(ts)):\n",
    "    ts[i].join()"
   ]
  },
  {
   "cell_type": "code",
   "execution_count": 8,
   "metadata": {
    "collapsed": false
   },
   "outputs": [],
   "source": [
    "# Predict test data\n",
    "for i in [0,1,2,3,4]:\n",
    "    predict(model_id = i)"
   ]
  },
  {
   "cell_type": "markdown",
   "metadata": {},
   "source": [
    "# Predict training data"
   ]
  },
  {
   "cell_type": "code",
   "execution_count": null,
   "metadata": {
    "collapsed": true
   },
   "outputs": [],
   "source": [
    "pred = None\n",
    "pred8 = None\n",
    "\n",
    "def predict_train(toy=None, batch_size=20, model_id=0, d=None):\n",
    "    model = Models.load_resnet50('weights-v9-f{}.hdf5'.format(model_id))\n",
    "    print('Model weights loaded')\n",
    "    \n",
    "    if d is None:\n",
    "        d = Data(toy=toy)\n",
    "    \n",
    "    cnt = 0\n",
    "    global pred\n",
    "    global pred8\n",
    "    pred = np.zeros((N_TRAIN, N_TAGS))\n",
    "    pred8 = np.zeros((N_TRAIN * 8, N_TAGS))\n",
    "    \n",
    "    print('Start predicting..')\n",
    "    for X in d.gen_train_augmented(batch_size):\n",
    "        y = model.predict_on_batch(X)\n",
    "        k = int(len(y) / 8 + 0.1)\n",
    "        pred8[cnt*8:(cnt+k)*8,:] = y[:,:]\n",
    "        for i in range(k):\n",
    "            pred[cnt+i,:] = d.consolidate(y[8*i:8*(i+1),:])\n",
    "        cnt += k\n",
    "        print('Predicted {} images'.format(cnt))\n",
    "    print('Predicted all {} images'.format(cnt))\n",
    "            \n",
    "    print('Saving raw predictions...')\n",
    "    np.save('raw_train_pred.v9.f{}.tta.npy'.format(model_id), pred)\n",
    "    np.save('raw_train_pred.v9.f{}.tta8.npy'.format(model_id), pred8)\n",
    "    print('Saved')"
   ]
  },
  {
   "cell_type": "code",
   "execution_count": 9,
   "metadata": {
    "collapsed": false
   },
   "outputs": [
    {
     "name": "stdout",
     "output_type": "stream",
     "text": [
      "Loading data...\n",
      "Getting 13 training images...\n",
      "Got 1 images\n",
      "Done\n",
      "Loaded fold 0.\n",
      "Getting 13 training images...\n",
      "Got 1 images\n",
      "Done\n",
      "Loaded fold 1.\n",
      "Getting 13 training images...\n",
      "Got 1 images\n",
      "Done\n",
      "Loaded fold 2.\n",
      "Getting 12 training images...\n",
      "Got 1 images\n",
      "Done\n",
      "Loaded fold 3.\n",
      "Getting 12 training images...\n",
      "Got 1 images\n",
      "Done\n",
      "Loaded fold 4.\n",
      "Loading done\n",
      "Model weights loaded\n",
      "Start predicting..\n",
      "Predicted 20 images\n",
      "Predicted 40 images\n",
      "Predicted 60 images\n",
      "Predicted 63 images\n",
      "Predicted all 63 images\n",
      "Saving raw predictions...\n",
      "Saved\n"
     ]
    }
   ],
   "source": [
    "# Predict training data\n",
    "toy = None\n",
    "d = Data(toy=toy)\n",
    "for i in [0,1,2,3,4]:\n",
    "    predict_train(model_id = i, d=d)"
   ]
  },
  {
   "cell_type": "code",
   "execution_count": null,
   "metadata": {
    "collapsed": true
   },
   "outputs": [],
   "source": [
    "# Experiment with thresholds\n",
    "pred = np.load('raw_pred.v9.npy')\n",
    "thres = [0.23067564, 0.27402788, 0.15499838, 0.18645976, 0.12418672, 0.093219191, 0.14909597, 0.13256209, 0.041971382, 0.17731731, 0.10376091, 0.25468382, 0.090709485, 0.13336645, 0.13344041, 0.10004906, 0.036582272]\n",
    "for i in range(N_TAGS):\n",
    "    if thres[i] > 0.2:\n",
    "        thres[i] = 0.21\n",
    "    else:\n",
    "        thres[i] = 0.19\n",
    "result = tags.pred_to_output(pred, thres)\n",
    "result.to_csv('submission.v9-2.csv', index = None)"
   ]
  },
  {
   "cell_type": "code",
   "execution_count": null,
   "metadata": {
    "collapsed": true
   },
   "outputs": [],
   "source": [
    "# Generate output from fine tuned predictions\n",
    "val = 4\n",
    "select = [2, 4, 7, 12]\n",
    "\n",
    "pred = np.load('raw_pred.v9.f{}.tta.npy'.format(val))\n",
    "pred_tune = np.load('raw_pred.v9.f{}-tune2.tta.npy'.format(val))\n",
    "for i in select:\n",
    "    pred[:,i] = pred_tune[:,i]\n",
    "\n",
    "result = tags.pred_to_output(pred, thres)\n",
    "result.to_csv('submission.v9.f{}-tune2.tta.csv'.format(val), index = None)"
   ]
  },
  {
   "cell_type": "code",
   "execution_count": 6,
   "metadata": {
    "collapsed": false
   },
   "outputs": [
    {
     "name": "stdout",
     "output_type": "stream",
     "text": [
      "Saving submission file for v13-n0...\n",
      "Saved\n",
      "Saving submission file for v13-n1...\n",
      "Saved\n",
      "Saving submission file for v13-n2...\n",
      "Saved\n",
      "Saving submission file for v13-n3...\n",
      "Saved\n",
      "Saving submission file for v13-n4...\n",
      "Saved\n",
      "Saving submission file for v13-n5...\n",
      "Saved\n",
      "Saving submission file for v13-n6...\n",
      "Saved\n",
      "Saving submission file for v13-n7...\n",
      "Saved\n"
     ]
    }
   ],
   "source": [
    "for i in range(8):\n",
    "    name = 'v13-n{}'.format(i)\n",
    "    pred = np.load(os.path.join(PLANET_KAGGLE_ROOT, 'ensemble', 'raw_pred.{}.npy'.format(name)))\n",
    "    \n",
    "    thres = [0.2]*17\n",
    "    result = tags.pred_to_output(pred, thres)\n",
    "    print('Saving submission file for {}...'.format(name))\n",
    "    result.to_csv('submission.{}.csv'.format(name), index = None)\n",
    "    print('Saved')"
   ]
  },
  {
   "cell_type": "code",
   "execution_count": null,
   "metadata": {
    "collapsed": true
   },
   "outputs": [],
   "source": []
  }
 ],
 "metadata": {
  "kernelspec": {
   "display_name": "Python 3",
   "language": "python",
   "name": "python3"
  },
  "language_info": {
   "codemirror_mode": {
    "name": "ipython",
    "version": 3
   },
   "file_extension": ".py",
   "mimetype": "text/x-python",
   "name": "python",
   "nbconvert_exporter": "python",
   "pygments_lexer": "ipython3",
   "version": "3.6.0"
  }
 },
 "nbformat": 4,
 "nbformat_minor": 2
}
