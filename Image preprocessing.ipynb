{
 "cells": [
  {
   "cell_type": "markdown",
   "metadata": {},
   "source": [
    "# image preprocessing"
   ]
  },
  {
   "cell_type": "code",
   "execution_count": 4,
   "metadata": {
    "collapsed": false
   },
   "outputs": [
    {
     "name": "stdout",
     "output_type": "stream",
     "text": [
      "print function is ready to serve\n"
     ]
    }
   ],
   "source": [
    "# print_function for compatibility with Python 3\n",
    "from __future__ import print_function\n",
    "print('print function is ready to serve')\n",
    "\n",
    "# NumPy for numerical computing\n",
    "import numpy as np\n",
    "np.random.seed(123)\n",
    "\n",
    "# Pandas for DataFrames\n",
    "import pandas as pd\n",
    "pd.set_option('display.max_column', 100)\n",
    "\n",
    "import os\n",
    "import gc\n",
    "from skimage import io\n",
    "from skimage.transform import rescale, resize, downscale_local_mean"
   ]
  },
  {
   "cell_type": "code",
   "execution_count": 18,
   "metadata": {
    "collapsed": true
   },
   "outputs": [],
   "source": [
    "# PLANET_KAGGLE_ROOT = '/Users/jiayou/Documents/Kaggle Data/Amazon'\n",
    "PLANET_KAGGLE_ROOT = '/data/planet-data/'\n",
    "\n",
    "N_TAGS = 17\n",
    "N_TRAIN = 40479\n",
    "N_USE = 32000\n",
    "# N_USE = 20\n",
    "N_TEST_T = 40669\n",
    "N_TEST_F = 20522\n",
    "N_TEST = N_TEST_T + N_TEST_F\n",
    "\n",
    "def load_image(filename):\n",
    "    '''Look through the directory tree to find the image you specified\n",
    "    (e.g. train_10.tif vs. train_10.jpg)'''\n",
    "    for dirname in os.listdir(PLANET_KAGGLE_ROOT):\n",
    "        path = os.path.abspath(os.path.join(PLANET_KAGGLE_ROOT, dirname, filename))\n",
    "        if os.path.exists(path):\n",
    "            print('Found image {}'.format(path))\n",
    "            return io.imread(path)\n",
    "    # if you reach this line, you didn't find the image you're looking for\n",
    "    print('Load failed: could not find image {}'.format(path))\n",
    "\n",
    "def load_train_image(n, tif=False, dbg=False):\n",
    "    if tif:\n",
    "        path = os.path.abspath(os.path.join(PLANET_KAGGLE_ROOT, 'train-tif-v2', 'train_{}.tif'.format(n)))\n",
    "    else:\n",
    "        path = os.path.abspath(os.path.join(PLANET_KAGGLE_ROOT, 'train-jpg', 'train_{}.jpg'.format(n)))\n",
    "    if os.path.exists(path):\n",
    "        img = io.imread(path)\n",
    "        return img\n",
    "    # if you reach this line, you didn't find the image you're looking for\n",
    "    print('Load failed: could not find image {}'.format(path))\n",
    "\n",
    "def load_test_image(n):\n",
    "    path = None\n",
    "    if n < N_TEST_T:\n",
    "        path = os.path.abspath(os.path.join(PLANET_KAGGLE_ROOT, 'test-jpg', 'test_{}.jpg'.format(n)))\n",
    "    else:\n",
    "        path = os.path.abspath(os.path.join(PLANET_KAGGLE_ROOT, 'test-jpg-additional', 'file_{}.jpg'.format(n - N_TEST_T)))\n",
    "    if os.path.exists(path):\n",
    "        return io.imread(path)\n",
    "    # if you reach this line, you didn't find the image you're looking for\n",
    "    print('Load failed: could not find image {}'.format(path))\n",
    "\n",
    "    \n",
    "calib_params = np.array(\n",
    "    [[ 4953.06200497,  4238.24180873,  3039.04404623,  6387.04264221],\n",
    "     [ 1692.87422811,  1528.24629706,  1576.04566834,  1804.99976545]]\n",
    ")\n",
    "    \n",
    "def preprocess_image(img):\n",
    "    img = img.astype('float16')\n",
    "#     img = downscale_local_mean(img, (4, 4, 1))\n",
    "\n",
    "    if img.shape[2] == 3:\n",
    "        # jpg\n",
    "        img = img / 255 - 0.5\n",
    "    else:\n",
    "        # tif\n",
    "        for i in range(4):\n",
    "            img[:,:,i] = (img[:,:,i] - calib_params[0,i]) / 1500\n",
    "        \n",
    "    return img"
   ]
  },
  {
   "cell_type": "code",
   "execution_count": 10,
   "metadata": {
    "collapsed": true
   },
   "outputs": [],
   "source": [
    "train_labels = pd.read_csv(os.path.join(PLANET_KAGGLE_ROOT, 'train_v2.csv'))\n",
    "\n",
    "label_list = []\n",
    "for tag_str in train_labels.tags.values:\n",
    "    labels = tag_str.split(' ')\n",
    "    for label in labels:\n",
    "        if label not in label_list:\n",
    "            label_list.append(label)\n",
    "\n",
    "label_map = {}\n",
    "for i in range(len(label_list)):\n",
    "    label_map[label_list[i]] = i\n",
    "label_idx = {v: k for k, v in label_map.items()}"
   ]
  },
  {
   "cell_type": "code",
   "execution_count": 11,
   "metadata": {
    "collapsed": true
   },
   "outputs": [],
   "source": [
    "def get_training_data(file_ids, tif=False, dbg=False, verbose=False):\n",
    "    if verbose:\n",
    "        print('Getting {} training images...'.format(len(file_ids)))\n",
    "    X_train = np.zeros((len(file_ids), 256, 256, 4 if tif else 3))\n",
    "    for i in range(len(file_ids)):\n",
    "        X_train[i,:,:,:] = preprocess_image(load_train_image(file_ids[i], tif=tif, dbg=dbg))\n",
    "        if verbose and i % 100 == 0:\n",
    "            print('Got {} images'.format(i+1))\n",
    "    if verbose:\n",
    "        print('Done')\n",
    "    \n",
    "    y_train = np.array([[0. for i in range(N_TAGS)] for j in file_ids])\n",
    "    for i in range(len(file_ids)):\n",
    "        tags = train_labels.tags[file_ids[i]]\n",
    "        if dbg:\n",
    "            print(file_ids[i], tags)\n",
    "        for tag in tags.split(' '):\n",
    "            if not tag in label_map:\n",
    "                continue\n",
    "            y_train[i][label_map[tag]] = 1.\n",
    "    if dbg:\n",
    "        print(y_train)\n",
    "    \n",
    "    return (X_train, y_train)"
   ]
  },
  {
   "cell_type": "code",
   "execution_count": null,
   "metadata": {
    "collapsed": true
   },
   "outputs": [],
   "source": [
    "for i in range(5):\n",
    "    file_ids = [x for x in range(N_TRAIN) if x % 5 == i]\n",
    "    X_train_i, y_train_i = get_training_data(file_ids, tif = True, verbose = True)\n",
    "    np.save('X.{}.npy'.format(i), X_train_i)\n",
    "    np.save('y.{}.npy'.format(i), y_train_i)"
   ]
  },
  {
   "cell_type": "code",
   "execution_count": null,
   "metadata": {
    "collapsed": false
   },
   "outputs": [],
   "source": []
  },
  {
   "cell_type": "code",
   "execution_count": null,
   "metadata": {
    "collapsed": false
   },
   "outputs": [],
   "source": []
  },
  {
   "cell_type": "code",
   "execution_count": null,
   "metadata": {
    "collapsed": true
   },
   "outputs": [],
   "source": []
  }
 ],
 "metadata": {
  "kernelspec": {
   "display_name": "Python 3",
   "language": "python",
   "name": "python3"
  },
  "language_info": {
   "codemirror_mode": {
    "name": "ipython",
    "version": 3
   },
   "file_extension": ".py",
   "mimetype": "text/x-python",
   "name": "python",
   "nbconvert_exporter": "python",
   "pygments_lexer": "ipython3",
   "version": "3.6.0"
  }
 },
 "nbformat": 4,
 "nbformat_minor": 2
}
