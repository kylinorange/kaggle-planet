{
 "cells": [
  {
   "cell_type": "code",
   "execution_count": 8,
   "metadata": {
    "collapsed": true
   },
   "outputs": [],
   "source": [
    "# Pandas for DataFrames\n",
    "import pandas as pd\n",
    "pd.set_option('display.max_column', 100)\n",
    "\n",
    "# NumPy for numerical computing\n",
    "import numpy as np\n",
    "np.random.seed(123)\n",
    "import random\n",
    "random.seed(123)\n",
    "\n",
    "import os"
   ]
  },
  {
   "cell_type": "code",
   "execution_count": 10,
   "metadata": {
    "collapsed": true
   },
   "outputs": [],
   "source": [
    "import sys\n",
    "sys.path.append('./utils')\n",
    "\n",
    "from data import Data\n",
    "from models import Models\n",
    "from tags import Tags\n",
    "tags = Tags()"
   ]
  },
  {
   "cell_type": "code",
   "execution_count": 9,
   "metadata": {
    "collapsed": false
   },
   "outputs": [],
   "source": [
    "PLANET_KAGGLE_ROOT = '/data/planet-data/'\n",
    "if not os.path.exists(PLANET_KAGGLE_ROOT):\n",
    "    PLANET_KAGGLE_ROOT = '/Users/jiayou/Documents/Kaggle Data/Amazon'\n",
    "    \n",
    "N_TEST_T = 40669\n",
    "N_TEST_F = 20522\n",
    "N_TEST = N_TEST_T + N_TEST_F"
   ]
  },
  {
   "cell_type": "code",
   "execution_count": 1,
   "metadata": {
    "collapsed": true
   },
   "outputs": [],
   "source": [
    "thres = [0.23067564, 0.27402788, 0.15499838, 0.18645976, 0.12418672, 0.093219191, 0.14909597, 0.13256209, 0.041971382, 0.17731731, 0.10376091, 0.25468382, 0.090709485, 0.13336645, 0.13344041, 0.10004906, 0.036582272]\n",
    "\n",
    "def pred_to_output(pred):\n",
    "    result = pd.DataFrame({\n",
    "        'image_name': \n",
    "            ['test_{}'.format(i) for i in range(N_TEST_T)] + ['file_{}'.format(i) for i in range(N_TEST_F)],\n",
    "        'tags': ['' for i in range(N_TEST)]\n",
    "    })\n",
    "    for i in range(len(pred)):\n",
    "        current_pred = pred[i]\n",
    "        current_tag = tags.pred_to_tags(current_pred, thres=thres)\n",
    "        result.iat[i, 1] = current_tag\n",
    "    return result\n",
    "\n",
    "def predict(model_path):\n",
    "    model = Models.load_resnet50(model_path)\n",
    "    print('Model weights loaded')\n",
    "    \n",
    "    d = Data(train=[])\n",
    "    \n",
    "    pred = None\n",
    "    cnt = 0\n",
    "    print('Start predicting..')\n",
    "    for X_test in d.gen_test(100):\n",
    "        y_test = model.predict_on_batch(X_test)\n",
    "        if pred is None:\n",
    "            pred = y_test\n",
    "        else:\n",
    "            pred = np.concatenate((pred, y_test))\n",
    "        cnt += len(y_test)\n",
    "        print('Predicted {} images'.format(cnt))\n",
    "    print('Predicted all {} images'.format(cnt))\n",
    "            \n",
    "    print('Saving raw predictions...')\n",
    "    np.save('raw_pred.v9.npy', pred)\n",
    "    print('Saved')\n",
    "    \n",
    "    result = pred_to_output(pred)\n",
    "    print('Saving submission file...')\n",
    "    result.to_csv('submission.v9.csv', index = None)\n",
    "    print('Saved')\n",
    "    return result"
   ]
  },
  {
   "cell_type": "code",
   "execution_count": null,
   "metadata": {
    "collapsed": false
   },
   "outputs": [],
   "source": []
  },
  {
   "cell_type": "code",
   "execution_count": 3,
   "metadata": {
    "collapsed": true
   },
   "outputs": [],
   "source": [
    "out = predict('/data/kaggle-planet/weights-v9.hdf5')"
   ]
  },
  {
   "cell_type": "code",
   "execution_count": null,
   "metadata": {
    "collapsed": true
   },
   "outputs": [],
   "source": [
    "pred = np.load('raw_pred.v9.npy')\n",
    "result = pred_to_output(pred)\n",
    "result.to_csv('submission.v9-2.csv', index = None)"
   ]
  }
 ],
 "metadata": {
  "kernelspec": {
   "display_name": "Python 3",
   "language": "python",
   "name": "python3"
  },
  "language_info": {
   "codemirror_mode": {
    "name": "ipython",
    "version": 3
   },
   "file_extension": ".py",
   "mimetype": "text/x-python",
   "name": "python",
   "nbconvert_exporter": "python",
   "pygments_lexer": "ipython3",
   "version": "3.6.0"
  }
 },
 "nbformat": 4,
 "nbformat_minor": 2
}
