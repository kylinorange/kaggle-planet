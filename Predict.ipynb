{
 "cells": [
  {
   "cell_type": "code",
   "execution_count": 1,
   "metadata": {
    "collapsed": true
   },
   "outputs": [],
   "source": [
    "# Pandas for DataFrames\n",
    "import pandas as pd\n",
    "pd.set_option('display.max_column', 100)\n",
    "\n",
    "# NumPy for numerical computing\n",
    "import numpy as np\n",
    "np.random.seed(123)\n",
    "import random\n",
    "random.seed(123)\n",
    "\n",
    "import os\n",
    "\n",
    "# Matplotlib for visualization\n",
    "from matplotlib import pyplot as plt\n",
    "\n",
    "# display plots in the notebook\n",
    "%matplotlib inline"
   ]
  },
  {
   "cell_type": "code",
   "execution_count": 2,
   "metadata": {
    "collapsed": false
   },
   "outputs": [
    {
     "name": "stderr",
     "output_type": "stream",
     "text": [
      "Using TensorFlow backend.\n"
     ]
    }
   ],
   "source": [
    "import sys\n",
    "sys.path.append('./utils')\n",
    "\n",
    "from data import Data\n",
    "from models import Models\n",
    "from tags import Tags\n",
    "tags = Tags()"
   ]
  },
  {
   "cell_type": "code",
   "execution_count": 3,
   "metadata": {
    "collapsed": false
   },
   "outputs": [],
   "source": [
    "PLANET_KAGGLE_ROOT = '/data/planet-data/'\n",
    "if not os.path.exists(PLANET_KAGGLE_ROOT):\n",
    "    PLANET_KAGGLE_ROOT = '/Users/jiayou/Documents/Kaggle Data/Amazon'\n",
    "    \n",
    "N_TAGS = 17\n",
    "N_TEST_T = 40669\n",
    "N_TEST_F = 20522\n",
    "N_TEST = N_TEST_T + N_TEST_F"
   ]
  },
  {
   "cell_type": "code",
   "execution_count": 5,
   "metadata": {
    "collapsed": true
   },
   "outputs": [],
   "source": [
    "thres = [0.23067564, 0.27402788, 0.15499838, 0.18645976, 0.12418672, 0.093219191, 0.14909597, 0.13256209, 0.041971382, 0.17731731, 0.10376091, 0.25468382, 0.090709485, 0.13336645, 0.13344041, 0.10004906, 0.036582272]\n",
    "thres = [0.2]*17\n",
    "\n",
    "def pred_to_output(pred):\n",
    "    result = pd.DataFrame({\n",
    "        'image_name': \n",
    "            ['test_{}'.format(i) for i in range(N_TEST_T)] + ['file_{}'.format(i) for i in range(N_TEST_F)],\n",
    "        'tags': ['' for i in range(N_TEST)]\n",
    "    })\n",
    "    for i in range(len(pred)):\n",
    "        current_pred = pred[i]\n",
    "        current_tag = tags.pred_to_tags(current_pred, thres=thres)\n",
    "        result.iat[i, 1] = current_tag\n",
    "    return result\n",
    "\n",
    "def consolidate(pred):\n",
    "    return pred.mean(axis=0)\n",
    "\n",
    "pred = None\n",
    "pred8 = None\n",
    "\n",
    "def predict(model_path, toy=None, batch_size=20):\n",
    "    model = Models.load_resnet50(model_path)\n",
    "    print('Model weights loaded')\n",
    "    \n",
    "    d = Data(train=[], toy=toy)\n",
    "    \n",
    "    cnt = 0\n",
    "    global pred\n",
    "    global pred8\n",
    "    pred = np.zeros((N_TEST, N_TAGS))\n",
    "    pred8 = np.zeros((N_TEST * 8, N_TAGS))\n",
    "    print('Start predicting..')\n",
    "    for X_test in d.gen_test_augmented(batch_size):\n",
    "        y_test = model.predict_on_batch(X_test)\n",
    "        k = int(len(y_test) / 8 + 0.1)\n",
    "        pred8[cnt*8:(cnt+k)*8,:] = y_test[:,:]\n",
    "        for i in range(k):\n",
    "            pred[cnt+i,:] = consolidate(y_test[8*i:8*(i+1),:])\n",
    "        cnt += k\n",
    "        print('Predicted {} images'.format(cnt))\n",
    "    print('Predicted all {} images'.format(cnt))\n",
    "            \n",
    "    print('Saving raw predictions...')\n",
    "    np.save('raw_pred.v9.tta.npy', pred)\n",
    "    np.save('raw_pred.v9.tta8.npy', pred8)\n",
    "    print('Saved')\n",
    "    \n",
    "    result = pred_to_output(pred)\n",
    "    print('Saving submission file...')\n",
    "    result.to_csv('submission.v9.tta.csv', index = None)\n",
    "    print('Saved')\n",
    "    return result"
   ]
  },
  {
   "cell_type": "code",
   "execution_count": 11,
   "metadata": {
    "collapsed": false
   },
   "outputs": [],
   "source": [
    "model = Models.load_resnet50('weights-v9.hdf5')"
   ]
  },
  {
   "cell_type": "code",
   "execution_count": 19,
   "metadata": {
    "collapsed": false,
    "scrolled": false
   },
   "outputs": [
    {
     "data": {
      "text/plain": [
       "array([ 0.00223983, -0.01109277,  0.02911913, -0.01754992,  0.00387825,\n",
       "       -0.04665675,  0.03481624,  0.00356703, -0.04247806,  0.03060204,\n",
       "       -0.01988623, -0.00865006, -0.04124454, -0.01158302,  0.01692761,\n",
       "       -0.0108131 ,  0.02604449, -0.03988459, -0.02094269, -0.01312441,\n",
       "       -0.03182349,  0.0339497 ,  0.00557818,  0.01078453, -0.00401395,\n",
       "       -0.04496027,  0.0263937 ,  0.00038293,  0.01641451,  0.00056055,\n",
       "       -0.02893478,  0.03983829,  0.0289033 ,  0.0401258 ,  0.01868348,\n",
       "       -0.0391048 , -0.02870469,  0.0012854 ,  0.01966462, -0.01625841,\n",
       "        0.0053267 , -0.00713183,  0.00480656, -0.0394246 , -0.02244909,\n",
       "       -0.03423842,  0.02129313, -0.02206269,  0.0393597 ,  0.03589353,\n",
       "       -0.02190847, -0.00146624,  0.05018585, -0.03080506, -0.04157066,\n",
       "       -0.00952809,  0.02269129, -0.03925563,  0.00944098, -0.01765026,\n",
       "       -0.02366939, -0.0193019 , -0.02678562, -0.0240464 ], dtype=float32)"
      ]
     },
     "execution_count": 19,
     "metadata": {},
     "output_type": "execute_result"
    }
   ],
   "source": [
    "model.layers[2].get_weights()[0][0,0,0]"
   ]
  },
  {
   "cell_type": "code",
   "execution_count": 6,
   "metadata": {
    "collapsed": false
   },
   "outputs": [
    {
     "name": "stdout",
     "output_type": "stream",
     "text": [
      "Model weights loaded\n",
      "Loading data...\n",
      "Loading done\n",
      "Start predicting..\n",
      "Predicted 5 images\n",
      "Predicted all 5 images\n",
      "Saving raw predictions...\n",
      "Saved\n",
      "Saving submission file...\n",
      "Saved\n"
     ]
    }
   ],
   "source": [
    "out = predict('./weights-v9.hdf5')"
   ]
  },
  {
   "cell_type": "code",
   "execution_count": null,
   "metadata": {
    "collapsed": true
   },
   "outputs": [],
   "source": [
    "pred = np.load('raw_pred.v9.npy')\n",
    "result = pred_to_output(pred)\n",
    "result.to_csv('submission.v9-2.csv', index = None)"
   ]
  }
 ],
 "metadata": {
  "kernelspec": {
   "display_name": "Python 3",
   "language": "python",
   "name": "python3"
  },
  "language_info": {
   "codemirror_mode": {
    "name": "ipython",
    "version": 3
   },
   "file_extension": ".py",
   "mimetype": "text/x-python",
   "name": "python",
   "nbconvert_exporter": "python",
   "pygments_lexer": "ipython3",
   "version": "3.6.0"
  }
 },
 "nbformat": 4,
 "nbformat_minor": 2
}
