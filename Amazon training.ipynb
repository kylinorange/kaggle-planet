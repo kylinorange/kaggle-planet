{
 "cells": [
  {
   "cell_type": "markdown",
   "metadata": {},
   "source": [
    "# Common"
   ]
  },
  {
   "cell_type": "code",
   "execution_count": 171,
   "metadata": {
    "collapsed": false
   },
   "outputs": [
    {
     "name": "stdout",
     "output_type": "stream",
     "text": [
      "print function is ready to serve\n"
     ]
    }
   ],
   "source": [
    "# print_function for compatibility with Python 3\n",
    "from __future__ import print_function\n",
    "print('print function is ready to serve')\n",
    "\n",
    "# NumPy for numerical computing\n",
    "import numpy as np\n",
    "np.random.seed(123)\n",
    "\n",
    "# Pandas for DataFrames\n",
    "import pandas as pd\n",
    "pd.set_option('display.max_column', 100)\n",
    "\n",
    "# Matplotlib for visualization\n",
    "from matplotlib import pyplot as plt\n",
    "\n",
    "# display plots in the notebook\n",
    "%matplotlib inline\n",
    "\n",
    "import tensorflow as tf\n",
    "\n",
    "from keras.models import Sequential\n",
    "from keras.layers.core import Dense, Dropout, Activation, Flatten\n",
    "from keras.layers.convolutional import Conv2D, MaxPooling2D\n",
    "from keras.layers.pooling import GlobalAveragePooling2D\n",
    "from keras.layers.normalization import BatchNormalization\n",
    "from keras.utils import np_utils\n",
    "from keras.callbacks import ModelCheckpoint\n",
    "from keras.callbacks import ReduceLROnPlateau\n",
    "from keras.optimizers import SGD, Adam\n",
    "\n",
    "import os\n",
    "import gc\n",
    "from skimage import io\n",
    "from skimage.transform import rescale, resize, downscale_local_mean"
   ]
  },
  {
   "cell_type": "code",
   "execution_count": 172,
   "metadata": {
    "collapsed": false
   },
   "outputs": [],
   "source": [
    "PLANET_KAGGLE_ROOT = '/Users/jiayou/Documents/Kaggle Data/Amazon'\n",
    "# PLANET_KAGGLE_ROOT = '/data/planet-data/'\n",
    "\n",
    "N_TAGS = 17\n",
    "N_TRAIN = 40479\n",
    "N_USE = 32000\n",
    "# N_USE = 20\n",
    "N_TEST_T = 40669\n",
    "N_TEST_F = 20522\n",
    "N_TEST = N_TEST_T + N_TEST_F\n",
    "\n",
    "def load_image(filename):\n",
    "    '''Look through the directory tree to find the image you specified\n",
    "    (e.g. train_10.tif vs. train_10.jpg)'''\n",
    "    for dirname in os.listdir(PLANET_KAGGLE_ROOT):\n",
    "        path = os.path.abspath(os.path.join(PLANET_KAGGLE_ROOT, dirname, filename))\n",
    "        if os.path.exists(path):\n",
    "            print('Found image {}'.format(path))\n",
    "            return io.imread(path)\n",
    "    # if you reach this line, you didn't find the image you're looking for\n",
    "    print('Load failed: could not find image {}'.format(path))\n",
    "\n",
    "def load_train_image(n, tif=False, dbg=False):\n",
    "    if tif:\n",
    "        path = os.path.abspath(os.path.join(PLANET_KAGGLE_ROOT, 'train-tif-v2', 'train_{}.tif'.format(n)))\n",
    "    else:\n",
    "        path = os.path.abspath(os.path.join(PLANET_KAGGLE_ROOT, 'train-jpg', 'train_{}.jpg'.format(n)))\n",
    "    if os.path.exists(path):\n",
    "        img = io.imread(path)\n",
    "        if dbg:\n",
    "            plt.figure()\n",
    "            plt.imshow(img)\n",
    "        return img\n",
    "    # if you reach this line, you didn't find the image you're looking for\n",
    "    print('Load failed: could not find image {}'.format(path))\n",
    "\n",
    "def load_test_image(n):\n",
    "    path = None\n",
    "    if n < N_TEST_T:\n",
    "        path = os.path.abspath(os.path.join(PLANET_KAGGLE_ROOT, 'test-jpg', 'test_{}.jpg'.format(n)))\n",
    "    else:\n",
    "        path = os.path.abspath(os.path.join(PLANET_KAGGLE_ROOT, 'test-jpg-additional', 'file_{}.jpg'.format(n - N_TEST_T)))\n",
    "    if os.path.exists(path):\n",
    "        return io.imread(path)\n",
    "    # if you reach this line, you didn't find the image you're looking for\n",
    "    print('Load failed: could not find image {}'.format(path))\n",
    "\n",
    "    \n",
    "calib_params = np.array(\n",
    "    [[ 4953.06200497,  4238.24180873,  3039.04404623,  6387.04264221],\n",
    "     [ 1692.87422811,  1528.24629706,  1576.04566834,  1804.99976545]]\n",
    ")\n",
    "    \n",
    "def preprocess_image(img):\n",
    "    img = img.astype('float16')\n",
    "#     img = downscale_local_mean(img, (4, 4, 1))\n",
    "\n",
    "    if img.shape[2] == 3:\n",
    "        # jpg\n",
    "        img = img / 255 - 0.5\n",
    "    else:\n",
    "        # tif\n",
    "        for i in range(4):\n",
    "            img[:,:,i] = (img[:,:,i] - calib_params[0,i]) / 1500\n",
    "        \n",
    "    return img"
   ]
  },
  {
   "cell_type": "code",
   "execution_count": 173,
   "metadata": {
    "collapsed": false
   },
   "outputs": [],
   "source": [
    "# img = load_train_image(1)\n",
    "# plt.imshow(img)\n",
    "# img.shape"
   ]
  },
  {
   "cell_type": "code",
   "execution_count": 174,
   "metadata": {
    "collapsed": false
   },
   "outputs": [
    {
     "data": {
      "text/html": [
       "<div>\n",
       "<table border=\"1\" class=\"dataframe\">\n",
       "  <thead>\n",
       "    <tr style=\"text-align: right;\">\n",
       "      <th></th>\n",
       "      <th>image_name</th>\n",
       "      <th>tags</th>\n",
       "    </tr>\n",
       "  </thead>\n",
       "  <tbody>\n",
       "    <tr>\n",
       "      <th>0</th>\n",
       "      <td>train_0</td>\n",
       "      <td>haze primary</td>\n",
       "    </tr>\n",
       "    <tr>\n",
       "      <th>1</th>\n",
       "      <td>train_1</td>\n",
       "      <td>agriculture clear primary water</td>\n",
       "    </tr>\n",
       "    <tr>\n",
       "      <th>2</th>\n",
       "      <td>train_2</td>\n",
       "      <td>clear primary</td>\n",
       "    </tr>\n",
       "    <tr>\n",
       "      <th>3</th>\n",
       "      <td>train_3</td>\n",
       "      <td>clear primary</td>\n",
       "    </tr>\n",
       "    <tr>\n",
       "      <th>4</th>\n",
       "      <td>train_4</td>\n",
       "      <td>agriculture clear habitation primary road</td>\n",
       "    </tr>\n",
       "    <tr>\n",
       "      <th>5</th>\n",
       "      <td>train_5</td>\n",
       "      <td>haze primary water</td>\n",
       "    </tr>\n",
       "    <tr>\n",
       "      <th>6</th>\n",
       "      <td>train_6</td>\n",
       "      <td>agriculture clear cultivation primary water</td>\n",
       "    </tr>\n",
       "    <tr>\n",
       "      <th>7</th>\n",
       "      <td>train_7</td>\n",
       "      <td>haze primary</td>\n",
       "    </tr>\n",
       "    <tr>\n",
       "      <th>8</th>\n",
       "      <td>train_8</td>\n",
       "      <td>agriculture clear cultivation primary</td>\n",
       "    </tr>\n",
       "    <tr>\n",
       "      <th>9</th>\n",
       "      <td>train_9</td>\n",
       "      <td>agriculture clear cultivation primary road</td>\n",
       "    </tr>\n",
       "    <tr>\n",
       "      <th>10</th>\n",
       "      <td>train_10</td>\n",
       "      <td>agriculture clear primary slash_burn water</td>\n",
       "    </tr>\n",
       "    <tr>\n",
       "      <th>11</th>\n",
       "      <td>train_11</td>\n",
       "      <td>clear primary water</td>\n",
       "    </tr>\n",
       "    <tr>\n",
       "      <th>12</th>\n",
       "      <td>train_12</td>\n",
       "      <td>cloudy</td>\n",
       "    </tr>\n",
       "    <tr>\n",
       "      <th>13</th>\n",
       "      <td>train_13</td>\n",
       "      <td>clear primary</td>\n",
       "    </tr>\n",
       "    <tr>\n",
       "      <th>14</th>\n",
       "      <td>train_14</td>\n",
       "      <td>cloudy</td>\n",
       "    </tr>\n",
       "    <tr>\n",
       "      <th>15</th>\n",
       "      <td>train_15</td>\n",
       "      <td>clear primary</td>\n",
       "    </tr>\n",
       "    <tr>\n",
       "      <th>16</th>\n",
       "      <td>train_16</td>\n",
       "      <td>clear primary</td>\n",
       "    </tr>\n",
       "    <tr>\n",
       "      <th>17</th>\n",
       "      <td>train_17</td>\n",
       "      <td>partly_cloudy primary</td>\n",
       "    </tr>\n",
       "    <tr>\n",
       "      <th>18</th>\n",
       "      <td>train_18</td>\n",
       "      <td>clear primary</td>\n",
       "    </tr>\n",
       "    <tr>\n",
       "      <th>19</th>\n",
       "      <td>train_19</td>\n",
       "      <td>agriculture clear primary road</td>\n",
       "    </tr>\n",
       "    <tr>\n",
       "      <th>20</th>\n",
       "      <td>train_20</td>\n",
       "      <td>agriculture clear primary water</td>\n",
       "    </tr>\n",
       "    <tr>\n",
       "      <th>21</th>\n",
       "      <td>train_21</td>\n",
       "      <td>clear primary road water</td>\n",
       "    </tr>\n",
       "    <tr>\n",
       "      <th>22</th>\n",
       "      <td>train_22</td>\n",
       "      <td>partly_cloudy primary</td>\n",
       "    </tr>\n",
       "    <tr>\n",
       "      <th>23</th>\n",
       "      <td>train_23</td>\n",
       "      <td>agriculture clear primary road</td>\n",
       "    </tr>\n",
       "    <tr>\n",
       "      <th>24</th>\n",
       "      <td>train_24</td>\n",
       "      <td>conventional_mine partly_cloudy primary</td>\n",
       "    </tr>\n",
       "    <tr>\n",
       "      <th>25</th>\n",
       "      <td>train_25</td>\n",
       "      <td>clear primary</td>\n",
       "    </tr>\n",
       "    <tr>\n",
       "      <th>26</th>\n",
       "      <td>train_26</td>\n",
       "      <td>cloudy</td>\n",
       "    </tr>\n",
       "    <tr>\n",
       "      <th>27</th>\n",
       "      <td>train_27</td>\n",
       "      <td>agriculture partly_cloudy primary water</td>\n",
       "    </tr>\n",
       "    <tr>\n",
       "      <th>28</th>\n",
       "      <td>train_28</td>\n",
       "      <td>clear primary</td>\n",
       "    </tr>\n",
       "    <tr>\n",
       "      <th>29</th>\n",
       "      <td>train_29</td>\n",
       "      <td>partly_cloudy primary</td>\n",
       "    </tr>\n",
       "    <tr>\n",
       "      <th>...</th>\n",
       "      <td>...</td>\n",
       "      <td>...</td>\n",
       "    </tr>\n",
       "    <tr>\n",
       "      <th>40449</th>\n",
       "      <td>train_40449</td>\n",
       "      <td>clear primary water</td>\n",
       "    </tr>\n",
       "    <tr>\n",
       "      <th>40450</th>\n",
       "      <td>train_40450</td>\n",
       "      <td>agriculture cultivation partly_cloudy primary ...</td>\n",
       "    </tr>\n",
       "    <tr>\n",
       "      <th>40451</th>\n",
       "      <td>train_40451</td>\n",
       "      <td>clear primary</td>\n",
       "    </tr>\n",
       "    <tr>\n",
       "      <th>40452</th>\n",
       "      <td>train_40452</td>\n",
       "      <td>clear primary</td>\n",
       "    </tr>\n",
       "    <tr>\n",
       "      <th>40453</th>\n",
       "      <td>train_40453</td>\n",
       "      <td>artisinal_mine clear primary</td>\n",
       "    </tr>\n",
       "    <tr>\n",
       "      <th>40454</th>\n",
       "      <td>train_40454</td>\n",
       "      <td>clear primary</td>\n",
       "    </tr>\n",
       "    <tr>\n",
       "      <th>40455</th>\n",
       "      <td>train_40455</td>\n",
       "      <td>agriculture partly_cloudy primary road convent...</td>\n",
       "    </tr>\n",
       "    <tr>\n",
       "      <th>40456</th>\n",
       "      <td>train_40456</td>\n",
       "      <td>clear primary</td>\n",
       "    </tr>\n",
       "    <tr>\n",
       "      <th>40457</th>\n",
       "      <td>train_40457</td>\n",
       "      <td>clear primary road selective_logging water</td>\n",
       "    </tr>\n",
       "    <tr>\n",
       "      <th>40458</th>\n",
       "      <td>train_40458</td>\n",
       "      <td>agriculture clear primary road</td>\n",
       "    </tr>\n",
       "    <tr>\n",
       "      <th>40459</th>\n",
       "      <td>train_40459</td>\n",
       "      <td>clear primary water</td>\n",
       "    </tr>\n",
       "    <tr>\n",
       "      <th>40460</th>\n",
       "      <td>train_40460</td>\n",
       "      <td>clear primary</td>\n",
       "    </tr>\n",
       "    <tr>\n",
       "      <th>40461</th>\n",
       "      <td>train_40461</td>\n",
       "      <td>cloudy</td>\n",
       "    </tr>\n",
       "    <tr>\n",
       "      <th>40462</th>\n",
       "      <td>train_40462</td>\n",
       "      <td>clear primary</td>\n",
       "    </tr>\n",
       "    <tr>\n",
       "      <th>40463</th>\n",
       "      <td>train_40463</td>\n",
       "      <td>agriculture haze primary</td>\n",
       "    </tr>\n",
       "    <tr>\n",
       "      <th>40464</th>\n",
       "      <td>train_40464</td>\n",
       "      <td>agriculture partly_cloudy primary road</td>\n",
       "    </tr>\n",
       "    <tr>\n",
       "      <th>40465</th>\n",
       "      <td>train_40465</td>\n",
       "      <td>blow_down clear primary</td>\n",
       "    </tr>\n",
       "    <tr>\n",
       "      <th>40466</th>\n",
       "      <td>train_40466</td>\n",
       "      <td>clear primary</td>\n",
       "    </tr>\n",
       "    <tr>\n",
       "      <th>40467</th>\n",
       "      <td>train_40467</td>\n",
       "      <td>agriculture clear primary road</td>\n",
       "    </tr>\n",
       "    <tr>\n",
       "      <th>40468</th>\n",
       "      <td>train_40468</td>\n",
       "      <td>agriculture clear primary</td>\n",
       "    </tr>\n",
       "    <tr>\n",
       "      <th>40469</th>\n",
       "      <td>train_40469</td>\n",
       "      <td>haze primary water</td>\n",
       "    </tr>\n",
       "    <tr>\n",
       "      <th>40470</th>\n",
       "      <td>train_40470</td>\n",
       "      <td>clear habitation primary road</td>\n",
       "    </tr>\n",
       "    <tr>\n",
       "      <th>40471</th>\n",
       "      <td>train_40471</td>\n",
       "      <td>clear primary</td>\n",
       "    </tr>\n",
       "    <tr>\n",
       "      <th>40472</th>\n",
       "      <td>train_40472</td>\n",
       "      <td>agriculture clear primary</td>\n",
       "    </tr>\n",
       "    <tr>\n",
       "      <th>40473</th>\n",
       "      <td>train_40473</td>\n",
       "      <td>agriculture clear habitation primary road</td>\n",
       "    </tr>\n",
       "    <tr>\n",
       "      <th>40474</th>\n",
       "      <td>train_40474</td>\n",
       "      <td>clear primary</td>\n",
       "    </tr>\n",
       "    <tr>\n",
       "      <th>40475</th>\n",
       "      <td>train_40475</td>\n",
       "      <td>cloudy</td>\n",
       "    </tr>\n",
       "    <tr>\n",
       "      <th>40476</th>\n",
       "      <td>train_40476</td>\n",
       "      <td>agriculture clear primary</td>\n",
       "    </tr>\n",
       "    <tr>\n",
       "      <th>40477</th>\n",
       "      <td>train_40477</td>\n",
       "      <td>agriculture clear primary road</td>\n",
       "    </tr>\n",
       "    <tr>\n",
       "      <th>40478</th>\n",
       "      <td>train_40478</td>\n",
       "      <td>agriculture cultivation partly_cloudy primary</td>\n",
       "    </tr>\n",
       "  </tbody>\n",
       "</table>\n",
       "<p>40479 rows × 2 columns</p>\n",
       "</div>"
      ],
      "text/plain": [
       "        image_name                                               tags\n",
       "0          train_0                                       haze primary\n",
       "1          train_1                    agriculture clear primary water\n",
       "2          train_2                                      clear primary\n",
       "3          train_3                                      clear primary\n",
       "4          train_4          agriculture clear habitation primary road\n",
       "5          train_5                                 haze primary water\n",
       "6          train_6        agriculture clear cultivation primary water\n",
       "7          train_7                                       haze primary\n",
       "8          train_8              agriculture clear cultivation primary\n",
       "9          train_9         agriculture clear cultivation primary road\n",
       "10        train_10         agriculture clear primary slash_burn water\n",
       "11        train_11                                clear primary water\n",
       "12        train_12                                             cloudy\n",
       "13        train_13                                      clear primary\n",
       "14        train_14                                             cloudy\n",
       "15        train_15                                      clear primary\n",
       "16        train_16                                      clear primary\n",
       "17        train_17                              partly_cloudy primary\n",
       "18        train_18                                      clear primary\n",
       "19        train_19                     agriculture clear primary road\n",
       "20        train_20                    agriculture clear primary water\n",
       "21        train_21                           clear primary road water\n",
       "22        train_22                              partly_cloudy primary\n",
       "23        train_23                     agriculture clear primary road\n",
       "24        train_24            conventional_mine partly_cloudy primary\n",
       "25        train_25                                      clear primary\n",
       "26        train_26                                             cloudy\n",
       "27        train_27            agriculture partly_cloudy primary water\n",
       "28        train_28                                      clear primary\n",
       "29        train_29                              partly_cloudy primary\n",
       "...            ...                                                ...\n",
       "40449  train_40449                                clear primary water\n",
       "40450  train_40450  agriculture cultivation partly_cloudy primary ...\n",
       "40451  train_40451                                      clear primary\n",
       "40452  train_40452                                      clear primary\n",
       "40453  train_40453                       artisinal_mine clear primary\n",
       "40454  train_40454                                      clear primary\n",
       "40455  train_40455  agriculture partly_cloudy primary road convent...\n",
       "40456  train_40456                                      clear primary\n",
       "40457  train_40457         clear primary road selective_logging water\n",
       "40458  train_40458                     agriculture clear primary road\n",
       "40459  train_40459                                clear primary water\n",
       "40460  train_40460                                      clear primary\n",
       "40461  train_40461                                             cloudy\n",
       "40462  train_40462                                      clear primary\n",
       "40463  train_40463                           agriculture haze primary\n",
       "40464  train_40464             agriculture partly_cloudy primary road\n",
       "40465  train_40465                            blow_down clear primary\n",
       "40466  train_40466                                      clear primary\n",
       "40467  train_40467                     agriculture clear primary road\n",
       "40468  train_40468                          agriculture clear primary\n",
       "40469  train_40469                                 haze primary water\n",
       "40470  train_40470                      clear habitation primary road\n",
       "40471  train_40471                                      clear primary\n",
       "40472  train_40472                          agriculture clear primary\n",
       "40473  train_40473          agriculture clear habitation primary road\n",
       "40474  train_40474                                      clear primary\n",
       "40475  train_40475                                             cloudy\n",
       "40476  train_40476                          agriculture clear primary\n",
       "40477  train_40477                     agriculture clear primary road\n",
       "40478  train_40478      agriculture cultivation partly_cloudy primary\n",
       "\n",
       "[40479 rows x 2 columns]"
      ]
     },
     "execution_count": 174,
     "metadata": {},
     "output_type": "execute_result"
    }
   ],
   "source": [
    "train_labels = pd.read_csv(os.path.join(PLANET_KAGGLE_ROOT, 'train_v2.csv'))\n",
    "train_labels"
   ]
  },
  {
   "cell_type": "code",
   "execution_count": 175,
   "metadata": {
    "collapsed": false
   },
   "outputs": [
    {
     "data": {
      "text/plain": [
       "{0: 'haze',\n",
       " 1: 'primary',\n",
       " 2: 'agriculture',\n",
       " 3: 'clear',\n",
       " 4: 'water',\n",
       " 5: 'habitation',\n",
       " 6: 'road',\n",
       " 7: 'cultivation',\n",
       " 8: 'slash_burn',\n",
       " 9: 'cloudy',\n",
       " 10: 'partly_cloudy',\n",
       " 11: 'conventional_mine',\n",
       " 12: 'bare_ground',\n",
       " 13: 'artisinal_mine',\n",
       " 14: 'blooming',\n",
       " 15: 'selective_logging',\n",
       " 16: 'blow_down'}"
      ]
     },
     "execution_count": 175,
     "metadata": {},
     "output_type": "execute_result"
    }
   ],
   "source": [
    "# label_map = {\n",
    "#     'clear':0,\n",
    "#     'partly_cloudy':1,\n",
    "#     'haze':2,\n",
    "#     'cloudy':3\n",
    "# }\n",
    "# label_idx = {v: k for k, v in label_map.items()}\n",
    "\n",
    "train_labels = pd.read_csv(os.path.join(PLANET_KAGGLE_ROOT, 'train_v2.csv'))\n",
    "\n",
    "label_list = []\n",
    "for tag_str in train_labels.tags.values:\n",
    "    labels = tag_str.split(' ')\n",
    "    for label in labels:\n",
    "        if label not in label_list:\n",
    "            label_list.append(label)\n",
    "\n",
    "label_map = {}\n",
    "for i in range(len(label_list)):\n",
    "    label_map[label_list[i]] = i\n",
    "label_idx = {v: k for k, v in label_map.items()}\n",
    "\n",
    "weather_labels = [0, 3, 9, 10]\n",
    "weather_labels = []\n",
    "\n",
    "thres = [0.24, 0.22, 0.25, 0.23, 0.26, 0.19, 0.24, 0.23, 0.1, 0.16, 0.14,\n",
    "         0.2, 0.17, 0.33, 0.04, 0.12, 0.07]\n",
    "\n",
    "def pred_to_tags(y):\n",
    "    maxw = 0\n",
    "    w = 3\n",
    "    tags = []\n",
    "    for i in range(N_TAGS):\n",
    "        tag = label_idx[i]\n",
    "        if i in weather_labels:\n",
    "            if y[i] > maxw:\n",
    "                maxw = y[i]\n",
    "                w = i\n",
    "        else:\n",
    "            if y[i] >= thres[i]:\n",
    "                tags.append(tag)\n",
    "#     tags.append(label_idx[w])\n",
    "    return ' '.join(tags)\n",
    "\n",
    "def output(pred):\n",
    "    result = pd.DataFrame({\n",
    "        'image_name': \n",
    "            ['test_{}'.format(i) for i in range(N_TEST_T)] + ['file_{}'.format(i) for i in range(N_TEST_F)],\n",
    "        'tags': ['' for i in range(N_TEST)]\n",
    "    })\n",
    "    for i in range(len(pred)):\n",
    "        current_pred = pred[i]\n",
    "        current_tag = pred_to_tags(current_pred)\n",
    "        result.iat[i, 1] = current_tag\n",
    "    return result\n",
    "\n",
    "label_idx"
   ]
  },
  {
   "cell_type": "code",
   "execution_count": 178,
   "metadata": {
    "collapsed": false
   },
   "outputs": [],
   "source": [
    "def get_training_data(file_ids, tif=False, dbg=False, verbose=False):\n",
    "    if verbose:\n",
    "        print('Getting {} training images...'.format(len(file_ids)))\n",
    "    X_train = np.zeros((len(file_ids), 64, 64, 4 if tif else 3))\n",
    "    for i in range(len(file_ids)):\n",
    "        X_train[i,:,:,:] = preprocess_image(load_train_image(file_ids[i], tif=tif, dbg=dbg))\n",
    "        if verbose and i % 100 == 0:\n",
    "            print('Got {} images'.format(i+1))\n",
    "    if verbose:\n",
    "        print('Done')\n",
    "    \n",
    "    y_train = np.array([[0. for i in range(N_TAGS)] for j in file_ids])\n",
    "    for i in range(len(file_ids)):\n",
    "        tags = train_labels.tags[file_ids[i]]\n",
    "        if dbg:\n",
    "            print(file_ids[i], tags)\n",
    "        for tag in tags.split(' '):\n",
    "            if not tag in label_map:\n",
    "                continue\n",
    "            y_train[i][label_map[tag]] = 1.\n",
    "    if dbg:\n",
    "        print(y_train)\n",
    "    \n",
    "    return (X_train, y_train)\n",
    "\n",
    "def get_test_data(file_ids):\n",
    "    X_train = np.array([preprocess_image(load_test_image(fname)) for fname in file_ids])\n",
    "    return X_train\n",
    "\n",
    "def gen_training_data(batch_size, dbg=False):\n",
    "    while 1:\n",
    "        file_ids = np.random.randint(0, N_TRAIN, size=batch_size).tolist()\n",
    "        for i in range(len(file_ids)):\n",
    "            if file_ids[i] % 5 == 0:\n",
    "                file_ids[i] = (file_ids[i] + 1) % N_TRAIN\n",
    "        file_ids.sort()\n",
    "        if dbg:\n",
    "            print('file ids: ', file_ids)\n",
    "        yield get_training_data(file_ids, dbg)\n",
    "\n",
    "\n",
    "def gen_validation_data(batch_size):\n",
    "    while 1:\n",
    "        file_ids = (np.random.randint(0, int(N_TRAIN / 5), size=batch_size) * 5).tolist()\n",
    "        file_ids.sort()\n",
    "        yield get_training_data(file_ids)\n",
    "        \n",
    "def gen_test_data(batch_size):\n",
    "    start = 0\n",
    "    while start < N_TEST:\n",
    "        end = min(start + batch_size, N_TEST)\n",
    "        yield get_test_data(range(start, end))\n",
    "        start = end"
   ]
  },
  {
   "cell_type": "code",
   "execution_count": 7,
   "metadata": {
    "collapsed": false
   },
   "outputs": [],
   "source": [
    "# g = gen_training_data(2, True)\n",
    "# t = next(g)"
   ]
  },
  {
   "cell_type": "code",
   "execution_count": 8,
   "metadata": {
    "collapsed": false
   },
   "outputs": [],
   "source": [
    "def amazon_score(y_true, y_pred):\n",
    "    y_true = y_true > 0.2\n",
    "    y_pred = y_pred > 0.2\n",
    "    \n",
    "    y_tp = tf.logical_and(y_true, y_pred)\n",
    "    y_fn = tf.logical_and(y_true, tf.logical_not(y_pred))\n",
    "    y_fp = tf.logical_and(tf.logical_not(y_true), y_pred)\n",
    "    \n",
    "    tp = tf.reduce_sum(tf.to_float(y_tp))\n",
    "    fn = tf.reduce_sum(tf.to_float(y_fn))\n",
    "    fp = tf.reduce_sum(tf.to_float(y_fp))\n",
    "    \n",
    "    p = tf.where(tp + fp > 0, tp / (tp + fp), 0)\n",
    "    r = tf.where(tp + fn > 0, tp / (tp + fn), 1)\n",
    "    s = tf.where(p + r > 0, 5 * p * r / (4 * p + r), 0)\n",
    "    \n",
    "    return s"
   ]
  },
  {
   "cell_type": "code",
   "execution_count": 193,
   "metadata": {
    "collapsed": true
   },
   "outputs": [],
   "source": [
    "def new_model():\n",
    "    model = Sequential()\n",
    "    model.add(BatchNormalization(input_shape=(64, 64, 4)))\n",
    "\n",
    "    model.add(Conv2D(32, (3, 3), padding='same', activation='relu'))\n",
    "    model.add(Conv2D(32, (3, 3), activation='relu'))\n",
    "    model.add(MaxPooling2D(pool_size=2))\n",
    "    model.add(Dropout(0.25))\n",
    "\n",
    "    model.add(Conv2D(64, (3, 3), padding='same', activation='relu'))\n",
    "    model.add(Conv2D(64, (3, 3), activation='relu'))\n",
    "    model.add(MaxPooling2D(pool_size=2))\n",
    "    model.add(Dropout(0.25))\n",
    "\n",
    "    model.add(Conv2D(128, (3, 3), padding='same', activation='relu'))\n",
    "    model.add(Conv2D(128, (3, 3), activation='relu'))\n",
    "    model.add(MaxPooling2D(pool_size=2))\n",
    "    model.add(Dropout(0.25))\n",
    "\n",
    "    model.add(Conv2D(256, (3, 3), padding='same', activation='relu'))\n",
    "    model.add(Conv2D(256, (3, 3), activation='relu'))\n",
    "    model.add(MaxPooling2D(pool_size=2))\n",
    "    model.add(Dropout(0.25))\n",
    "    \n",
    "    model.add(Flatten())\n",
    "    model.add(Dense(512, activation='relu'))\n",
    "    model.add(BatchNormalization())\n",
    "    model.add(Dropout(0.5))\n",
    "    model.add(Dense(N_TAGS, activation='sigmoid'))\n",
    "\n",
    "    model.compile(metrics=[amazon_score, 'accuracy'],\n",
    "                  loss='binary_crossentropy',\n",
    "                  optimizer=Adam(lr=0.001))\n",
    "    return model\n",
    "\n",
    "def load_model(path):\n",
    "    model = new_model()\n",
    "    model.load_weights(path)\n",
    "    return model\n",
    "\n",
    "from keras.applications.resnet50 import ResNet50\n",
    "from keras.preprocessing import image\n",
    "from keras.applications.resnet50 import preprocess_input, decode_predictions\n",
    "from keras.layers import Input\n",
    "from keras.models import Model\n",
    "\n",
    "import numpy as np\n",
    "\n",
    "def new_resnet50():\n",
    "    base_model = ResNet50(weights=None, include_top=False, input_tensor = Input(shape=(64, 64, 3)))\n",
    "    \n",
    "    # add a global spatial average pooling layer\n",
    "    x = base_model.output\n",
    "    x = Flatten()(x)\n",
    "    # let's add a fully-connected layer\n",
    "    x = Dense(256, activation='relu')(x)\n",
    "    # and a logistic layer -- let's say we have 200 classes\n",
    "    predictions = Dense(17, activation='sigmoid')(x)\n",
    "\n",
    "    # this is the model we will train\n",
    "    model = Model(inputs=base_model.input, outputs=predictions)\n",
    "\n",
    "    # first: train only the top layers (which were randomly initialized)\n",
    "#     for layer in base_model.layers:\n",
    "#         layer.trainable = False\n",
    "        \n",
    "#     for layer in model.layers[-24:]:\n",
    "#         layer.trainable = True\n",
    "\n",
    "    model.compile(metrics=[amazon_score, 'accuracy'],\n",
    "                  loss='binary_crossentropy',\n",
    "                  optimizer=Adam(lr=0.001))\n",
    "    return model"
   ]
  },
  {
   "cell_type": "code",
   "execution_count": 10,
   "metadata": {
    "collapsed": true
   },
   "outputs": [],
   "source": [
    "def predict(model_path):\n",
    "    model = load_model(model_path)\n",
    "    print('Model weights loaded')\n",
    "    \n",
    "    pred = None\n",
    "    cnt = 0\n",
    "    print('Start predicting..')\n",
    "    for X_test in gen_test_data(100):\n",
    "        y_test = model.predict_on_batch(X_test)\n",
    "        if pred is None:\n",
    "            pred = y_test\n",
    "        else:\n",
    "            pred = np.concatenate((pred, y_test))\n",
    "        cnt += len(y_test)\n",
    "        print('Predicted {} images'.format(cnt))\n",
    "    print('Predicted all {} images'.format(cnt))\n",
    "            \n",
    "    print('Saving raw predictions...')\n",
    "    np.save('raw_pred.npy', pred)\n",
    "    print('Saved')\n",
    "    \n",
    "    result = output(pred)\n",
    "    print('Saving submission file...')\n",
    "    result.to_csv('submission.csv', index = None)\n",
    "    print('Saved')\n",
    "    return result"
   ]
  },
  {
   "cell_type": "markdown",
   "metadata": {},
   "source": [
    "# Training"
   ]
  },
  {
   "cell_type": "code",
   "execution_count": 191,
   "metadata": {
    "collapsed": false
   },
   "outputs": [],
   "source": [
    "def train():\n",
    "    X_train, y_train = get_training_data([x for x in range(N_TRAIN) if x % 5 != 0], tif=True, verbose=True)\n",
    "    gc.collect()\n",
    "    \n",
    "    X_val, y_val = get_training_data([x for x in range(N_TRAIN) if x % 5 == 0], tif=True, verbose=True)\n",
    "    gc.collect()\n",
    "    \n",
    "    model = new_model()\n",
    "    \n",
    "    h = model.fit(\n",
    "        X_train, y_train, batch_size=32, verbose=1,\n",
    "        validation_data=(X_val, y_val),\n",
    "        epochs=40, initial_epoch=0,\n",
    "        callbacks=[\n",
    "            ModelCheckpoint('weights-v7.hdf5', save_best_only=True, verbose=1),\n",
    "            ReduceLROnPlateau(monitor='val_loss', factor=0.5, patience=2, min_lr=0.000001, verbose=1)],\n",
    "    )\n",
    "    return h"
   ]
  },
  {
   "cell_type": "code",
   "execution_count": null,
   "metadata": {
    "collapsed": false
   },
   "outputs": [],
   "source": []
  },
  {
   "cell_type": "code",
   "execution_count": 12,
   "metadata": {
    "collapsed": false
   },
   "outputs": [],
   "source": [
    "# model = new_model()\n",
    "# model = load_model('/Users/jiayou/weights-v1.02-0.60-0.10.hdf5')\n",
    "# model = new_resnet50()"
   ]
  },
  {
   "cell_type": "code",
   "execution_count": 16,
   "metadata": {
    "collapsed": false
   },
   "outputs": [],
   "source": [
    "# h = model.fit_generator(\n",
    "#         gen_training_data(30), steps_per_epoch=1000, \n",
    "#         epochs=30, initial_epoch=0,\n",
    "#         validation_data=gen_validation_data(100), validation_steps=80,\n",
    "#         callbacks=[\n",
    "#             ModelCheckpoint(\n",
    "#                 'weights-v5.{epoch:02d}-{val_amazon_score:.2f}-{val_loss:.2f}.hdf5',\n",
    "#                 save_best_only=True, verbose=1),\n",
    "#             ReduceLROnPlateau(monitor='val_loss', factor=0.5, patience=2, min_lr=0.00001, verbose=1)],\n",
    "#         max_q_size=10)\n",
    "\n",
    "# h = model.fit_generator(\n",
    "#         gen_training_data(1), steps_per_epoch=20,\n",
    "#         epochs=50, initial_epoch=0,\n",
    "#         validation_data=gen_validation_data(10), validation_steps=1,\n",
    "#         callbacks=[ModelCheckpoint('weights-v1.{epoch:02d}-{val_amazon_score:.2f}-{val_loss:.2f}.hdf5')],\n",
    "#         max_q_size=2)\n",
    "\n",
    "# h = model.fit(\n",
    "#     X_train, y_train, batch_size=1, epochs=50, verbose=1,\n",
    "#     validation_data=(X_train, y_train),\n",
    "#     callbacks=[ReduceLROnPlateau(monitor='loss', factor=0.1, patience=10, verbose=1)]\n",
    "# )\n",
    "\n",
    "# h = model.fit(X_train, y_train, batch_size=10, epochs=12, verbose=1, initial_epoch=10)"
   ]
  },
  {
   "cell_type": "markdown",
   "metadata": {},
   "source": [
    "# Prediction"
   ]
  },
  {
   "cell_type": "code",
   "execution_count": 120,
   "metadata": {
    "collapsed": false
   },
   "outputs": [],
   "source": [
    "out = predict('/data/kaggle-planet/weights-v4.24-0.86-0.14.hdf5')"
   ]
  },
  {
   "cell_type": "code",
   "execution_count": null,
   "metadata": {
    "collapsed": false
   },
   "outputs": [],
   "source": []
  },
  {
   "cell_type": "code",
   "execution_count": 47,
   "metadata": {
    "collapsed": false
   },
   "outputs": [],
   "source": [
    "pred = np.load(os.path.join(PLANET_KAGGLE_ROOT, 'preds', 'raw_pred.npy'))\n",
    "result = output(pred)\n",
    "result.to_csv(os.path.join(PLANET_KAGGLE_ROOT, 'preds', 'submission-3.csv'), index = None)"
   ]
  },
  {
   "cell_type": "code",
   "execution_count": null,
   "metadata": {
    "collapsed": false
   },
   "outputs": [],
   "source": []
  },
  {
   "cell_type": "code",
   "execution_count": 134,
   "metadata": {
    "collapsed": false
   },
   "outputs": [
    {
     "data": {
      "text/plain": [
       "1000"
      ]
     },
     "execution_count": 134,
     "metadata": {},
     "output_type": "execute_result"
    }
   ],
   "source": [
    "def get_training_file_ids(draw_size):\n",
    "    file_ids = np.random.randint(0, N_TRAIN, size=draw_size).tolist()\n",
    "    for i in range(len(file_ids)):\n",
    "        if file_ids[i] % 5 == 0:\n",
    "            file_ids[i] = (file_ids[i] + 1) % N_TRAIN\n",
    "    return file_ids"
   ]
  },
  {
   "cell_type": "code",
   "execution_count": 136,
   "metadata": {
    "collapsed": false
   },
   "outputs": [
    {
     "data": {
      "text/plain": [
       "array([[ 4953.06200497,  4238.24180873,  3039.04404623,  6387.04264221],\n",
       "       [ 1692.87422811,  1528.24629706,  1576.04566834,  1804.99976545]])"
      ]
     },
     "execution_count": 136,
     "metadata": {},
     "output_type": "execute_result"
    }
   ],
   "source": [
    "def get_calib_params():\n",
    "    draw_size = 1000\n",
    "    file_ids = get_training_file_ids(draw_size)\n",
    "    ref_color = [[], [], [], []]\n",
    "\n",
    "    for i in range(draw_size):\n",
    "        current_im = io.imread(os.path.join(PLANET_KAGGLE_ROOT, 'train-tif-v2', 'train_{}.tif'.format(file_ids[i])))\n",
    "        flatten_im = current_im.reshape((-1, 4))\n",
    "        for j in range(4):\n",
    "            ref_color[j] += flatten_im[:, j].tolist()\n",
    "\n",
    "    ref_color = np.array(ref_color)\n",
    "    ref_param = np.zeros((2, 4))\n",
    "    ref_param[0,:] = ref_color.mean(axis = 1)\n",
    "    ref_param[1,:] = ref_color.std(axis = 1)\n",
    "    return ref_param"
   ]
  },
  {
   "cell_type": "code",
   "execution_count": 161,
   "metadata": {
    "collapsed": true
   },
   "outputs": [],
   "source": []
  },
  {
   "cell_type": "code",
   "execution_count": 166,
   "metadata": {
    "collapsed": false
   },
   "outputs": [
    {
     "data": {
      "text/plain": [
       "<matplotlib.image.AxesImage at 0x287b584a8>"
      ]
     },
     "execution_count": 166,
     "metadata": {},
     "output_type": "execute_result"
    },
    {
     "data": {
      "image/png": "[encoded data removed]",
      "text/plain": [
       "<matplotlib.figure.Figure at 0x1631b8908>"
      ]
     },
     "metadata": {},
     "output_type": "display_data"
    }
   ],
   "source": [
    "im = io.imread(os.path.join(PLANET_KAGGLE_ROOT, 'train-tif-v2', 'train_{}.tif'.format(5)))\n",
    "im = calib_image(im)\n",
    "im\n",
    "plt.imshow((im[:,:,3] + 3) / 6)\n",
    "# plt.hist(np.reshape(im[:,:,0:3], (256*256*3, 1)))"
   ]
  },
  {
   "cell_type": "code",
   "execution_count": 167,
   "metadata": {
    "collapsed": false,
    "scrolled": false
   },
   "outputs": [
    {
     "data": {
      "image/png": "[encoded data removed]",
      "text/plain": [
       "<matplotlib.figure.Figure at 0x1844885c0>"
      ]
     },
     "metadata": {},
     "output_type": "display_data"
    }
   ],
   "source": [
    "for n in range(1):\n",
    "    im = io.imread(os.path.join(PLANET_KAGGLE_ROOT, 'train-tif-v2', 'train_{}.tif'.format(n)))\n",
    "    im = calib_image(im)\n",
    "    plt.figure()\n",
    "    plt.title(n)\n",
    "    for i, color in enumerate(['r','g','b','k']):\n",
    "        plt.hist(np.reshape(im[:,:,i], (256*256)), bins=30, label=color, color=color, histtype='step', range=[-5, 5])\n",
    "    plt.legend()"
   ]
  },
  {
   "cell_type": "code",
   "execution_count": 70,
   "metadata": {
    "collapsed": false,
    "scrolled": false
   },
   "outputs": [],
   "source": [
    "im = io.imread(os.path.join(PLANET_KAGGLE_ROOT, 'train-tif-v2', 'train_{}.tif'.format(0)))\n",
    "im = im.astype('float32')\n",
    "im = im / 10000 - 0.5\n",
    "np.save(os.path.join(PLANET_KAGGLE_ROOT, 'train_0.tif.npy'), im)"
   ]
  },
  {
   "cell_type": "code",
   "execution_count": 179,
   "metadata": {
    "collapsed": false
   },
   "outputs": [
    {
     "name": "stdout",
     "output_type": "stream",
     "text": [
      "Getting 5 training images...\n",
      "Got 1 images\n",
      "Done\n"
     ]
    }
   ],
   "source": []
  },
  {
   "cell_type": "code",
   "execution_count": 189,
   "metadata": {
    "collapsed": false
   },
   "outputs": [
    {
     "data": {
      "text/plain": [
       "<matplotlib.image.AxesImage at 0x13748aeb8>"
      ]
     },
     "execution_count": 189,
     "metadata": {},
     "output_type": "execute_result"
    },
    {
     "data": {
      "image/png": "[encoded data removed]",
      "text/plain": [
       "<matplotlib.figure.Figure at 0x12e582dd8>"
      ]
     },
     "metadata": {},
     "output_type": "display_data"
    }
   ],
   "source": []
  },
  {
   "cell_type": "code",
   "execution_count": null,
   "metadata": {
    "collapsed": true
   },
   "outputs": [],
   "source": []
  }
 ],
 "metadata": {
  "kernelspec": {
   "display_name": "Python 3",
   "language": "python",
   "name": "python3"
  },
  "language_info": {
   "codemirror_mode": {
    "name": "ipython",
    "version": 3
   },
   "file_extension": ".py",
   "mimetype": "text/x-python",
   "name": "python",
   "nbconvert_exporter": "python",
   "pygments_lexer": "ipython3",
   "version": "3.6.0"
  }
 },
 "nbformat": 4,
 "nbformat_minor": 2
}
